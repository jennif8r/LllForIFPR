{
  "nbformat": 4,
  "nbformat_minor": 0,
  "metadata": {
    "colab": {
      "provenance": [],
      "authorship_tag": "ABX9TyMZWrkn79wIHqhDW/FiFQs1",
      "include_colab_link": true
    },
    "kernelspec": {
      "name": "python3",
      "display_name": "Python 3"
    },
    "language_info": {
      "name": "python"
    },
    "widgets": {
      "application/vnd.jupyter.widget-state+json": {
        "a27fc39638bc4c00bfb474083bda1066": {
          "model_module": "@jupyter-widgets/controls",
          "model_name": "HBoxModel",
          "model_module_version": "1.5.0",
          "state": {
            "_dom_classes": [],
            "_model_module": "@jupyter-widgets/controls",
            "_model_module_version": "1.5.0",
            "_model_name": "HBoxModel",
            "_view_count": null,
            "_view_module": "@jupyter-widgets/controls",
            "_view_module_version": "1.5.0",
            "_view_name": "HBoxView",
            "box_style": "",
            "children": [
              "IPY_MODEL_781eed0b95ec4122a9ea018e47f54a8e",
              "IPY_MODEL_b1ac4fff2b174ec3aa4cd00b54899942",
              "IPY_MODEL_71e9b4a73b6b47f1ac767b7dfc64ae92"
            ],
            "layout": "IPY_MODEL_a198269d28134bc1983cdc49a63f03b9"
          }
        },
        "781eed0b95ec4122a9ea018e47f54a8e": {
          "model_module": "@jupyter-widgets/controls",
          "model_name": "HTMLModel",
          "model_module_version": "1.5.0",
          "state": {
            "_dom_classes": [],
            "_model_module": "@jupyter-widgets/controls",
            "_model_module_version": "1.5.0",
            "_model_name": "HTMLModel",
            "_view_count": null,
            "_view_module": "@jupyter-widgets/controls",
            "_view_module_version": "1.5.0",
            "_view_name": "HTMLView",
            "description": "",
            "description_tooltip": null,
            "layout": "IPY_MODEL_d099fe88fddd48b39239f622c567e2bf",
            "placeholder": "​",
            "style": "IPY_MODEL_2df60c18fb304ec7995f40ece924b5c5",
            "value": "Map: 100%"
          }
        },
        "b1ac4fff2b174ec3aa4cd00b54899942": {
          "model_module": "@jupyter-widgets/controls",
          "model_name": "FloatProgressModel",
          "model_module_version": "1.5.0",
          "state": {
            "_dom_classes": [],
            "_model_module": "@jupyter-widgets/controls",
            "_model_module_version": "1.5.0",
            "_model_name": "FloatProgressModel",
            "_view_count": null,
            "_view_module": "@jupyter-widgets/controls",
            "_view_module_version": "1.5.0",
            "_view_name": "ProgressView",
            "bar_style": "success",
            "description": "",
            "description_tooltip": null,
            "layout": "IPY_MODEL_9b7ec22005fe43bebac430a052a4accb",
            "max": 1,
            "min": 0,
            "orientation": "horizontal",
            "style": "IPY_MODEL_7ad296f389fd45af99f4ff3b5bef01b1",
            "value": 1
          }
        },
        "71e9b4a73b6b47f1ac767b7dfc64ae92": {
          "model_module": "@jupyter-widgets/controls",
          "model_name": "HTMLModel",
          "model_module_version": "1.5.0",
          "state": {
            "_dom_classes": [],
            "_model_module": "@jupyter-widgets/controls",
            "_model_module_version": "1.5.0",
            "_model_name": "HTMLModel",
            "_view_count": null,
            "_view_module": "@jupyter-widgets/controls",
            "_view_module_version": "1.5.0",
            "_view_name": "HTMLView",
            "description": "",
            "description_tooltip": null,
            "layout": "IPY_MODEL_6d3156813e804b38b061ff59619aa8cd",
            "placeholder": "​",
            "style": "IPY_MODEL_487a3fc7e9f74f789b99c4972f76e39b",
            "value": " 1/1 [00:00&lt;00:00,  9.57 examples/s]"
          }
        },
        "a198269d28134bc1983cdc49a63f03b9": {
          "model_module": "@jupyter-widgets/base",
          "model_name": "LayoutModel",
          "model_module_version": "1.2.0",
          "state": {
            "_model_module": "@jupyter-widgets/base",
            "_model_module_version": "1.2.0",
            "_model_name": "LayoutModel",
            "_view_count": null,
            "_view_module": "@jupyter-widgets/base",
            "_view_module_version": "1.2.0",
            "_view_name": "LayoutView",
            "align_content": null,
            "align_items": null,
            "align_self": null,
            "border": null,
            "bottom": null,
            "display": null,
            "flex": null,
            "flex_flow": null,
            "grid_area": null,
            "grid_auto_columns": null,
            "grid_auto_flow": null,
            "grid_auto_rows": null,
            "grid_column": null,
            "grid_gap": null,
            "grid_row": null,
            "grid_template_areas": null,
            "grid_template_columns": null,
            "grid_template_rows": null,
            "height": null,
            "justify_content": null,
            "justify_items": null,
            "left": null,
            "margin": null,
            "max_height": null,
            "max_width": null,
            "min_height": null,
            "min_width": null,
            "object_fit": null,
            "object_position": null,
            "order": null,
            "overflow": null,
            "overflow_x": null,
            "overflow_y": null,
            "padding": null,
            "right": null,
            "top": null,
            "visibility": null,
            "width": null
          }
        },
        "d099fe88fddd48b39239f622c567e2bf": {
          "model_module": "@jupyter-widgets/base",
          "model_name": "LayoutModel",
          "model_module_version": "1.2.0",
          "state": {
            "_model_module": "@jupyter-widgets/base",
            "_model_module_version": "1.2.0",
            "_model_name": "LayoutModel",
            "_view_count": null,
            "_view_module": "@jupyter-widgets/base",
            "_view_module_version": "1.2.0",
            "_view_name": "LayoutView",
            "align_content": null,
            "align_items": null,
            "align_self": null,
            "border": null,
            "bottom": null,
            "display": null,
            "flex": null,
            "flex_flow": null,
            "grid_area": null,
            "grid_auto_columns": null,
            "grid_auto_flow": null,
            "grid_auto_rows": null,
            "grid_column": null,
            "grid_gap": null,
            "grid_row": null,
            "grid_template_areas": null,
            "grid_template_columns": null,
            "grid_template_rows": null,
            "height": null,
            "justify_content": null,
            "justify_items": null,
            "left": null,
            "margin": null,
            "max_height": null,
            "max_width": null,
            "min_height": null,
            "min_width": null,
            "object_fit": null,
            "object_position": null,
            "order": null,
            "overflow": null,
            "overflow_x": null,
            "overflow_y": null,
            "padding": null,
            "right": null,
            "top": null,
            "visibility": null,
            "width": null
          }
        },
        "2df60c18fb304ec7995f40ece924b5c5": {
          "model_module": "@jupyter-widgets/controls",
          "model_name": "DescriptionStyleModel",
          "model_module_version": "1.5.0",
          "state": {
            "_model_module": "@jupyter-widgets/controls",
            "_model_module_version": "1.5.0",
            "_model_name": "DescriptionStyleModel",
            "_view_count": null,
            "_view_module": "@jupyter-widgets/base",
            "_view_module_version": "1.2.0",
            "_view_name": "StyleView",
            "description_width": ""
          }
        },
        "9b7ec22005fe43bebac430a052a4accb": {
          "model_module": "@jupyter-widgets/base",
          "model_name": "LayoutModel",
          "model_module_version": "1.2.0",
          "state": {
            "_model_module": "@jupyter-widgets/base",
            "_model_module_version": "1.2.0",
            "_model_name": "LayoutModel",
            "_view_count": null,
            "_view_module": "@jupyter-widgets/base",
            "_view_module_version": "1.2.0",
            "_view_name": "LayoutView",
            "align_content": null,
            "align_items": null,
            "align_self": null,
            "border": null,
            "bottom": null,
            "display": null,
            "flex": null,
            "flex_flow": null,
            "grid_area": null,
            "grid_auto_columns": null,
            "grid_auto_flow": null,
            "grid_auto_rows": null,
            "grid_column": null,
            "grid_gap": null,
            "grid_row": null,
            "grid_template_areas": null,
            "grid_template_columns": null,
            "grid_template_rows": null,
            "height": null,
            "justify_content": null,
            "justify_items": null,
            "left": null,
            "margin": null,
            "max_height": null,
            "max_width": null,
            "min_height": null,
            "min_width": null,
            "object_fit": null,
            "object_position": null,
            "order": null,
            "overflow": null,
            "overflow_x": null,
            "overflow_y": null,
            "padding": null,
            "right": null,
            "top": null,
            "visibility": null,
            "width": null
          }
        },
        "7ad296f389fd45af99f4ff3b5bef01b1": {
          "model_module": "@jupyter-widgets/controls",
          "model_name": "ProgressStyleModel",
          "model_module_version": "1.5.0",
          "state": {
            "_model_module": "@jupyter-widgets/controls",
            "_model_module_version": "1.5.0",
            "_model_name": "ProgressStyleModel",
            "_view_count": null,
            "_view_module": "@jupyter-widgets/base",
            "_view_module_version": "1.2.0",
            "_view_name": "StyleView",
            "bar_color": null,
            "description_width": ""
          }
        },
        "6d3156813e804b38b061ff59619aa8cd": {
          "model_module": "@jupyter-widgets/base",
          "model_name": "LayoutModel",
          "model_module_version": "1.2.0",
          "state": {
            "_model_module": "@jupyter-widgets/base",
            "_model_module_version": "1.2.0",
            "_model_name": "LayoutModel",
            "_view_count": null,
            "_view_module": "@jupyter-widgets/base",
            "_view_module_version": "1.2.0",
            "_view_name": "LayoutView",
            "align_content": null,
            "align_items": null,
            "align_self": null,
            "border": null,
            "bottom": null,
            "display": null,
            "flex": null,
            "flex_flow": null,
            "grid_area": null,
            "grid_auto_columns": null,
            "grid_auto_flow": null,
            "grid_auto_rows": null,
            "grid_column": null,
            "grid_gap": null,
            "grid_row": null,
            "grid_template_areas": null,
            "grid_template_columns": null,
            "grid_template_rows": null,
            "height": null,
            "justify_content": null,
            "justify_items": null,
            "left": null,
            "margin": null,
            "max_height": null,
            "max_width": null,
            "min_height": null,
            "min_width": null,
            "object_fit": null,
            "object_position": null,
            "order": null,
            "overflow": null,
            "overflow_x": null,
            "overflow_y": null,
            "padding": null,
            "right": null,
            "top": null,
            "visibility": null,
            "width": null
          }
        },
        "487a3fc7e9f74f789b99c4972f76e39b": {
          "model_module": "@jupyter-widgets/controls",
          "model_name": "DescriptionStyleModel",
          "model_module_version": "1.5.0",
          "state": {
            "_model_module": "@jupyter-widgets/controls",
            "_model_module_version": "1.5.0",
            "_model_name": "DescriptionStyleModel",
            "_view_count": null,
            "_view_module": "@jupyter-widgets/base",
            "_view_module_version": "1.2.0",
            "_view_name": "StyleView",
            "description_width": ""
          }
        },
        "e8afb1a3ea374aad9cec699956498fdb": {
          "model_module": "@jupyter-widgets/controls",
          "model_name": "HBoxModel",
          "model_module_version": "1.5.0",
          "state": {
            "_dom_classes": [],
            "_model_module": "@jupyter-widgets/controls",
            "_model_module_version": "1.5.0",
            "_model_name": "HBoxModel",
            "_view_count": null,
            "_view_module": "@jupyter-widgets/controls",
            "_view_module_version": "1.5.0",
            "_view_name": "HBoxView",
            "box_style": "",
            "children": [
              "IPY_MODEL_01e2d03f74b44ca6a27431f2d209c73a",
              "IPY_MODEL_e519c76f7f8e49d8b4f62399c6be2c92",
              "IPY_MODEL_0cbe539cd8334012ad458b62b42c6cb0"
            ],
            "layout": "IPY_MODEL_4e160e8d9d9a4c748e2558b119b97700"
          }
        },
        "01e2d03f74b44ca6a27431f2d209c73a": {
          "model_module": "@jupyter-widgets/controls",
          "model_name": "HTMLModel",
          "model_module_version": "1.5.0",
          "state": {
            "_dom_classes": [],
            "_model_module": "@jupyter-widgets/controls",
            "_model_module_version": "1.5.0",
            "_model_name": "HTMLModel",
            "_view_count": null,
            "_view_module": "@jupyter-widgets/controls",
            "_view_module_version": "1.5.0",
            "_view_name": "HTMLView",
            "description": "",
            "description_tooltip": null,
            "layout": "IPY_MODEL_4a9a251301e6427b9c527026522a1d83",
            "placeholder": "​",
            "style": "IPY_MODEL_cd86816d70924c27855918e0f952ba1a",
            "value": "Map: 100%"
          }
        },
        "e519c76f7f8e49d8b4f62399c6be2c92": {
          "model_module": "@jupyter-widgets/controls",
          "model_name": "FloatProgressModel",
          "model_module_version": "1.5.0",
          "state": {
            "_dom_classes": [],
            "_model_module": "@jupyter-widgets/controls",
            "_model_module_version": "1.5.0",
            "_model_name": "FloatProgressModel",
            "_view_count": null,
            "_view_module": "@jupyter-widgets/controls",
            "_view_module_version": "1.5.0",
            "_view_name": "ProgressView",
            "bar_style": "success",
            "description": "",
            "description_tooltip": null,
            "layout": "IPY_MODEL_a00c0af33f474fa8950518d5db4165aa",
            "max": 1,
            "min": 0,
            "orientation": "horizontal",
            "style": "IPY_MODEL_389953f0fb5c489eb3f79c5274509a2b",
            "value": 1
          }
        },
        "0cbe539cd8334012ad458b62b42c6cb0": {
          "model_module": "@jupyter-widgets/controls",
          "model_name": "HTMLModel",
          "model_module_version": "1.5.0",
          "state": {
            "_dom_classes": [],
            "_model_module": "@jupyter-widgets/controls",
            "_model_module_version": "1.5.0",
            "_model_name": "HTMLModel",
            "_view_count": null,
            "_view_module": "@jupyter-widgets/controls",
            "_view_module_version": "1.5.0",
            "_view_name": "HTMLView",
            "description": "",
            "description_tooltip": null,
            "layout": "IPY_MODEL_3c6dc730988a44738ce2063a88aa2c85",
            "placeholder": "​",
            "style": "IPY_MODEL_f8f59a4ec9974c97b2922ef9e8f7295f",
            "value": " 1/1 [00:00&lt;00:00, 14.61 examples/s]"
          }
        },
        "4e160e8d9d9a4c748e2558b119b97700": {
          "model_module": "@jupyter-widgets/base",
          "model_name": "LayoutModel",
          "model_module_version": "1.2.0",
          "state": {
            "_model_module": "@jupyter-widgets/base",
            "_model_module_version": "1.2.0",
            "_model_name": "LayoutModel",
            "_view_count": null,
            "_view_module": "@jupyter-widgets/base",
            "_view_module_version": "1.2.0",
            "_view_name": "LayoutView",
            "align_content": null,
            "align_items": null,
            "align_self": null,
            "border": null,
            "bottom": null,
            "display": null,
            "flex": null,
            "flex_flow": null,
            "grid_area": null,
            "grid_auto_columns": null,
            "grid_auto_flow": null,
            "grid_auto_rows": null,
            "grid_column": null,
            "grid_gap": null,
            "grid_row": null,
            "grid_template_areas": null,
            "grid_template_columns": null,
            "grid_template_rows": null,
            "height": null,
            "justify_content": null,
            "justify_items": null,
            "left": null,
            "margin": null,
            "max_height": null,
            "max_width": null,
            "min_height": null,
            "min_width": null,
            "object_fit": null,
            "object_position": null,
            "order": null,
            "overflow": null,
            "overflow_x": null,
            "overflow_y": null,
            "padding": null,
            "right": null,
            "top": null,
            "visibility": null,
            "width": null
          }
        },
        "4a9a251301e6427b9c527026522a1d83": {
          "model_module": "@jupyter-widgets/base",
          "model_name": "LayoutModel",
          "model_module_version": "1.2.0",
          "state": {
            "_model_module": "@jupyter-widgets/base",
            "_model_module_version": "1.2.0",
            "_model_name": "LayoutModel",
            "_view_count": null,
            "_view_module": "@jupyter-widgets/base",
            "_view_module_version": "1.2.0",
            "_view_name": "LayoutView",
            "align_content": null,
            "align_items": null,
            "align_self": null,
            "border": null,
            "bottom": null,
            "display": null,
            "flex": null,
            "flex_flow": null,
            "grid_area": null,
            "grid_auto_columns": null,
            "grid_auto_flow": null,
            "grid_auto_rows": null,
            "grid_column": null,
            "grid_gap": null,
            "grid_row": null,
            "grid_template_areas": null,
            "grid_template_columns": null,
            "grid_template_rows": null,
            "height": null,
            "justify_content": null,
            "justify_items": null,
            "left": null,
            "margin": null,
            "max_height": null,
            "max_width": null,
            "min_height": null,
            "min_width": null,
            "object_fit": null,
            "object_position": null,
            "order": null,
            "overflow": null,
            "overflow_x": null,
            "overflow_y": null,
            "padding": null,
            "right": null,
            "top": null,
            "visibility": null,
            "width": null
          }
        },
        "cd86816d70924c27855918e0f952ba1a": {
          "model_module": "@jupyter-widgets/controls",
          "model_name": "DescriptionStyleModel",
          "model_module_version": "1.5.0",
          "state": {
            "_model_module": "@jupyter-widgets/controls",
            "_model_module_version": "1.5.0",
            "_model_name": "DescriptionStyleModel",
            "_view_count": null,
            "_view_module": "@jupyter-widgets/base",
            "_view_module_version": "1.2.0",
            "_view_name": "StyleView",
            "description_width": ""
          }
        },
        "a00c0af33f474fa8950518d5db4165aa": {
          "model_module": "@jupyter-widgets/base",
          "model_name": "LayoutModel",
          "model_module_version": "1.2.0",
          "state": {
            "_model_module": "@jupyter-widgets/base",
            "_model_module_version": "1.2.0",
            "_model_name": "LayoutModel",
            "_view_count": null,
            "_view_module": "@jupyter-widgets/base",
            "_view_module_version": "1.2.0",
            "_view_name": "LayoutView",
            "align_content": null,
            "align_items": null,
            "align_self": null,
            "border": null,
            "bottom": null,
            "display": null,
            "flex": null,
            "flex_flow": null,
            "grid_area": null,
            "grid_auto_columns": null,
            "grid_auto_flow": null,
            "grid_auto_rows": null,
            "grid_column": null,
            "grid_gap": null,
            "grid_row": null,
            "grid_template_areas": null,
            "grid_template_columns": null,
            "grid_template_rows": null,
            "height": null,
            "justify_content": null,
            "justify_items": null,
            "left": null,
            "margin": null,
            "max_height": null,
            "max_width": null,
            "min_height": null,
            "min_width": null,
            "object_fit": null,
            "object_position": null,
            "order": null,
            "overflow": null,
            "overflow_x": null,
            "overflow_y": null,
            "padding": null,
            "right": null,
            "top": null,
            "visibility": null,
            "width": null
          }
        },
        "389953f0fb5c489eb3f79c5274509a2b": {
          "model_module": "@jupyter-widgets/controls",
          "model_name": "ProgressStyleModel",
          "model_module_version": "1.5.0",
          "state": {
            "_model_module": "@jupyter-widgets/controls",
            "_model_module_version": "1.5.0",
            "_model_name": "ProgressStyleModel",
            "_view_count": null,
            "_view_module": "@jupyter-widgets/base",
            "_view_module_version": "1.2.0",
            "_view_name": "StyleView",
            "bar_color": null,
            "description_width": ""
          }
        },
        "3c6dc730988a44738ce2063a88aa2c85": {
          "model_module": "@jupyter-widgets/base",
          "model_name": "LayoutModel",
          "model_module_version": "1.2.0",
          "state": {
            "_model_module": "@jupyter-widgets/base",
            "_model_module_version": "1.2.0",
            "_model_name": "LayoutModel",
            "_view_count": null,
            "_view_module": "@jupyter-widgets/base",
            "_view_module_version": "1.2.0",
            "_view_name": "LayoutView",
            "align_content": null,
            "align_items": null,
            "align_self": null,
            "border": null,
            "bottom": null,
            "display": null,
            "flex": null,
            "flex_flow": null,
            "grid_area": null,
            "grid_auto_columns": null,
            "grid_auto_flow": null,
            "grid_auto_rows": null,
            "grid_column": null,
            "grid_gap": null,
            "grid_row": null,
            "grid_template_areas": null,
            "grid_template_columns": null,
            "grid_template_rows": null,
            "height": null,
            "justify_content": null,
            "justify_items": null,
            "left": null,
            "margin": null,
            "max_height": null,
            "max_width": null,
            "min_height": null,
            "min_width": null,
            "object_fit": null,
            "object_position": null,
            "order": null,
            "overflow": null,
            "overflow_x": null,
            "overflow_y": null,
            "padding": null,
            "right": null,
            "top": null,
            "visibility": null,
            "width": null
          }
        },
        "f8f59a4ec9974c97b2922ef9e8f7295f": {
          "model_module": "@jupyter-widgets/controls",
          "model_name": "DescriptionStyleModel",
          "model_module_version": "1.5.0",
          "state": {
            "_model_module": "@jupyter-widgets/controls",
            "_model_module_version": "1.5.0",
            "_model_name": "DescriptionStyleModel",
            "_view_count": null,
            "_view_module": "@jupyter-widgets/base",
            "_view_module_version": "1.2.0",
            "_view_name": "StyleView",
            "description_width": ""
          }
        }
      }
    }
  },
  "cells": [
    {
      "cell_type": "markdown",
      "metadata": {
        "id": "view-in-github",
        "colab_type": "text"
      },
      "source": [
        "<a href=\"https://colab.research.google.com/github/jennif8r/LllForIFPR/blob/main/testDois.ipynb\" target=\"_parent\"><img src=\"https://colab.research.google.com/assets/colab-badge.svg\" alt=\"Open In Colab\"/></a>"
      ]
    },
    {
      "cell_type": "markdown",
      "source": [
        "#Passo 1: Extração de informação de um site"
      ],
      "metadata": {
        "id": "ssXqZzMpwCZY"
      }
    },
    {
      "cell_type": "code",
      "source": [
        "import requests\n",
        "from bs4 import BeautifulSoup\n",
        "\n",
        "# URL do site que queremos extrair informações\n",
        "url = 'https://ifpr.edu.br/colombo/'\n",
        "\n",
        "# Enviando uma solicitação GET para o site\n",
        "response = requests.get(url)\n",
        "html = response.text\n",
        "\n",
        "# Usando BeautifulSoup para analisar o HTML\n",
        "soup = BeautifulSoup(html, 'html.parser')\n",
        "\n",
        "# Extraindo o texto do site\n",
        "text = soup.get_text()\n",
        "\n",
        "print(text)\n"
      ],
      "metadata": {
        "colab": {
          "base_uri": "https://localhost:8080/"
        },
        "id": "QynOgLjqwEb_",
        "outputId": "c12b0832-49ca-4cb8-d76e-922ce3c555a4"
      },
      "execution_count": 1,
      "outputs": [
        {
          "output_type": "stream",
          "name": "stdout",
          "text": [
            "\n",
            "\n",
            "\n",
            "\n",
            "\n",
            "\n",
            "\n",
            "\n",
            "\n",
            "\n",
            "\n",
            "\n",
            "\n",
            "\n",
            "\n",
            "\n",
            "\n",
            "\n",
            "Campus Colombo – IFPR – Educação Pública, Gratuita e de Qualidade\n",
            "\n",
            "\n",
            "\n",
            "\n",
            "\n",
            "\n",
            "\n",
            "\n",
            "\n",
            "\n",
            "\n",
            "\n",
            "\n",
            "\n",
            "\n",
            "\n",
            "\n",
            "\n",
            "\n",
            " \n",
            "\n",
            "\n",
            "\n",
            "\n",
            "\n",
            "\n",
            "\n",
            "Portal do Governo Brasileiro\n",
            "\n",
            "\n",
            "\n",
            "\n",
            "\n",
            "\n",
            "\n",
            "\n",
            "\n",
            "\n",
            "\n",
            "\n",
            "\n",
            "\n",
            "\n",
            "\n",
            "\n",
            "\n",
            "Instituto Federal do Paraná\n",
            "Marca do IFPR\n",
            "\n",
            "\n",
            "\n",
            "\n",
            "\n",
            "\n",
            "\n",
            "\n",
            "\n",
            "\n",
            "\n",
            "INSTITUTO FEDERAL\n",
            "\n",
            "Paraná\n",
            "Campus Colombo\n",
            "\n",
            "\n",
            "\n",
            "\n",
            "\n",
            "\n",
            "\n",
            "\n",
            "\n",
            "\n",
            "\n",
            "\n",
            "\n",
            "Pesquisar em ifpr.edu.br/colombo\t\t\t\t\tPesquisar ifpr.edu.br/colombo:\n",
            "\n",
            "\n",
            "\n",
            "Pesquisar\n",
            "\n",
            "<Pesquisa Pública\n",
            "\n",
            "\n",
            "\n",
            "\n",
            "Início\n",
            "Estude no IFPR\n",
            "Nossos Cursos\n",
            "\n",
            "Técnicos Integrados\n",
            "Técnicos Subsequentes\n",
            "Superiores\n",
            "Pronatec\n",
            "Educação a Distância\n",
            "\n",
            "\n",
            " \n",
            "\n",
            "\n",
            "\n",
            "\n",
            "\n",
            "\n",
            "\n",
            "\n",
            "\n",
            "\n",
            "\n",
            "InstitucionalO Instituto\n",
            "\n",
            "O Instituto\n",
            "O Campus Colombo\n",
            "Fale Conosco\n",
            "\n",
            "\n",
            "Nossos Cursos\n",
            "\n",
            "Técnico Integrado em Administração\n",
            "Técnico Integrado em Alimentos\n",
            "Técnico Integrado em Informática\n",
            "Técnico Subsequente em Administração\n",
            "Tecnologia em Alimentos\n",
            "Tecnologia em Análise e Desenvolvimento de Sistemas\n",
            "Tecnologia em Processos Gerenciais\n",
            "\n",
            "\n",
            "Pesquisa e Extensão\n",
            "\n",
            "Comitê de Pesquisa e Extensão\n",
            "\n",
            "\n",
            "Órgãos Colegiados\n",
            "\n",
            "CODIC – Colégio de Dirigentes do Campus\n",
            "NAPNE – Núcleo de Apoio a Pessoas com Necessidades Especiais\n",
            "NIT – Núcleo de Inovação Tecnológica\n",
            "\n",
            "\n",
            "Editais e Portarias\n",
            "Estude no IFPR\n",
            "Eventos\n",
            "\n",
            "VII ME²PI – Mostra de Ensino, Extensão, Pesquisa e Inovação\n",
            "Olimpíada de Robótica\n",
            "IFTECH / IFAGROTECH\n",
            "\n",
            "\n",
            "Projeto Político Pedagógico\n",
            "CPA – Comissão Própria de Avaliação\n",
            "AcadêmicoCalendário Acadêmico\n",
            "Horário das Aulas\n",
            "Rematrícula\n",
            "Transferência Interna/Externa\n",
            "Docentes\n",
            "\n",
            "Calendário Acadêmico\n",
            "Documentos e Formulários\n",
            "Relação de Professores\n",
            "Sistemas\n",
            "SCPPD\n",
            "\n",
            "\n",
            "Estudantes\n",
            "\n",
            "Agenda\n",
            "Diretório Acadêmico\n",
            "Tutorial SIGAA\n",
            "SIGAA\n",
            "\n",
            "\n",
            "NAPNE – Núcleos de Atendimento às Pessoas com Necessidades Específicas\n",
            "\n",
            "Educação Especial\n",
            "\n",
            "\n",
            "Biblioteca\n",
            "Secretaria\n",
            "\n",
            "Secretaria Acadêmica\n",
            "Documentos\n",
            "\n",
            "\n",
            "SEPAE – Seção Pedagógica e Assuntos Estudantis\n",
            "\n",
            "A SEPAE\n",
            "Equipe da SEPAE\n",
            "Horário de Atendimento da SEPAE\n",
            "Atendimento aos Alunos\n",
            "Guia do Estudante\n",
            "Boletins e outros documentos\n",
            "Direitos e Deveres dos Estudantes\n",
            "Assistência Estudantil – Bolsas e Auxílios\n",
            "Informações sobre os Cursos\n",
            "Avaliação/Recuperação/Aprovação/Reprovação e Dependências\n",
            "\n",
            "\n",
            "Seção de EstágiosEstágio\n",
            "Planejamento e AdministraçãoLicitações\n",
            "PAC – Plano Anual de Contratações\n",
            "Editais\n",
            "Concursos e SeleçõesProcesso Seletivo Simplificado\n",
            "\n",
            "Professores\n",
            "Estagiários\n",
            "\n",
            "\n",
            "Seleção de alunos bolsistas/voluntários\n",
            "Concursos e Seleções encerrados\n",
            "Assistência EstudantilEditais – Assistência Estudantil\n",
            " \n",
            "\n",
            "\n",
            "Página do Servidor\n",
            "Informações sobre a vida funcional\n",
            "\n",
            "\n",
            "\n",
            "\n",
            "Sistemas\n",
            "Sistemas Acadêmicos, Administrativos e Helpdesk\n",
            "\n",
            "\n",
            "\n",
            "\n",
            "Rede de Bibliotecas do IFPR\n",
            "Informações sobre as bibliotecas do IFPR\n",
            "\n",
            "\n",
            "\n",
            "\n",
            "Segurança e Prevenção\n",
            "IFPR pela paz\n",
            "\n",
            "\n",
            "\n",
            "\n",
            "Portal das Artes\n",
            "Atividades artísticas e culturais\n",
            "\n",
            "\n",
            "\n",
            "\n",
            "Diplomas\n",
            "Informações sobre a emissão de diplomas\n",
            "\n",
            "\n",
            "\n",
            "Processo Seletivo 2023/2024\n",
            "\n",
            "\n",
            "\n",
            "\n",
            "\n",
            "\n",
            "\n",
            " Notícias\n",
            "\n",
            "Inventário Anual da Biblioteca\n",
            "A Biblioteca do Campus Colombo estará fechada entre os dias 29 de julho e 7 de agosto para a realização do inventário anual do acervo bibliográfico. Por isso, além do atendimento, os serviços de empréstimo e devolução também estarão suspensos. Os materiais…\n",
            "\n",
            "\n",
            "\n",
            "\n",
            "\n",
            "Notícias\n",
            " Publicados os editais de afastamento para pós-gradução do Campus Colombo\n",
            "Foram publicados hoje os editais que tratam do afastamento integral para participação em programa de pós-graduação stricto sensu ou de pós-doutorado para os…\n",
            "\n",
            "\n",
            "PACE\n",
            " PACE – Retificação do Edital nº 34, de 22 de março de 2024\n",
            "Tornamos pública a retificação do Edital nº 34, de 22 de março de 2024. As inscrições serão recebidas das 08h do dia…\n",
            "\n",
            "\n",
            "Notícias\n",
            " Sexta ChamadaComplementar do Processo Seletivo IFPR 2023/2024 dos Cursos Técnicos de Nível Médio\n",
            "Tornamos pública a SEXTA CHAMADA COMPLEMENTAR do PROCESSO SELETIVO IFPR 2023/2024 dos Cursos Técnicosde Nível Médio do Insti tuto Federal do…\n",
            "\n",
            "\n",
            "Notícias\n",
            " Termo de Habilitação-Doação de Bens Inservíveis\n",
            "Tornamos público o Termo de Habilitação concernente às instituições que manifestaram interesse no Edital nº 22, de 14 de março de…\n",
            "\n",
            "\n",
            "\n",
            "\n",
            "Notícias\n",
            "\n",
            " IFPR Campus Colombo foi sede do 1º Talk de Inovação Aberta de Colombo. \n",
            " Conselho Superior do Instituto Federal do Paraná suspende o calendário acadêmico a partir de 01 de maio \n",
            " Comunicado para a Comunidade Acadêmica do IFPR Campus Colombo \n",
            " Inscrição para o PROGRAMA DE ASSISTÊNCIA COMPLEMENTAR AO ESTUDANTE – PACE 2024 – II Edição. \n",
            " Parceria IFPR e Instituto Politécnico de Viana do Castelo – IPVC Portugal \n",
            "\n",
            "  Mais notícias: julho 2024\n",
            "\n",
            "\n",
            "\n",
            "\n",
            "\n",
            "\n",
            "\n",
            "\n",
            "\n",
            "\n",
            "\n",
            "\n",
            "\n",
            "\n",
            "O IFPR no Facebook\n",
            "\n",
            "\n",
            "\n",
            "\n",
            "\n",
            "\n",
            "\n",
            "\n",
            "Conexão IFPR\n",
            "\n",
            "\n",
            "\n",
            "\n",
            "\n",
            "Mulheres na Ciência e no Mundo do Trabalho\n",
            " \n",
            "\n",
            "\n",
            "Volta às Aulas 2023\n",
            " \n",
            "\n",
            "\t\t\t\t\t\tAcesse o\t\t\t\t\t\t\n",
            "Conexão IFPR\n",
            "\n",
            "\t\t\t\t\t\t para assistir mais vídeos.\t\t\t\t\t\n",
            "\n",
            "\n",
            "\n",
            "\n",
            "\n",
            "\n",
            "Páginas dos CampiInstitucional\n",
            "Arapongas\n",
            "Assis Chateaubriand\n",
            "Astorga\n",
            "Barracão\n",
            "Campo Largo\n",
            "Capanema\n",
            "Cascavel\n",
            "Colombo\n",
            "Coronel Vivida\n",
            "Curitiba\n",
            "Foz do Iguaçu\n",
            "Goioerê\n",
            "Irati\n",
            "Ivaiporã\n",
            "Jacarezinho\n",
            "Jaguariaíva\n",
            "Londrina\n",
            "Palmas\n",
            "Paranaguá\n",
            "Paranavaí\n",
            "Pinhais\n",
            "Pitanga\n",
            "Quedas do Iguaçu\n",
            "Telêmaco Borba\n",
            "Umuarama\n",
            "União da Vitória\n",
            " \n",
            "\n",
            "\n",
            "\n",
            "Nossos CursosTécnicos Integrados\n",
            "Técnicos Subsequentes\n",
            "Superiores\n",
            "Educação a Distância\n",
            "Páginas dos CampiInstitucional\n",
            "Arapongas\n",
            "Assis Chateaubriand\n",
            "Astorga\n",
            "Barracão\n",
            "Campo Largo\n",
            "Capanema\n",
            "Cascavel\n",
            "Colombo\n",
            "Coronel Vivida\n",
            "Curitiba\n",
            "Foz do Iguaçu\n",
            "Goioerê\n",
            "Irati\n",
            "Ivaiporã\n",
            "Jacarezinho\n",
            "Jaguariaíva\n",
            "Londrina\n",
            "Palmas\n",
            "Paranaguá\n",
            "Paranavaí\n",
            "Pinhais\n",
            "Pitanga\n",
            "Quedas do Iguaçu\n",
            "Telêmaco Borba\n",
            "Umuarama\n",
            "União da Vitória\n",
            "Fale ConoscoFale Conosco\n",
            "Ouvidoria\n",
            "Redes SociaisFacebook\n",
            "Youtube\n",
            "Instagram\n",
            "PrivacidadePolítica de Privacidade\n",
            "Política de Cookies\n",
            "\n",
            "Sistema e-mec\n",
            "Consulte o cadastro do IFPR no e-mec\n",
            "\n",
            " \n",
            "\n",
            "\n",
            "IFPR Campus Colombo – Rua Antonio Chemin, 28, São Gabriel | Colombo – PR | CEP 8340-3515 | Telefone 3300-0137\n",
            "\n",
            "\n",
            " Topo\n",
            "\n",
            "\n",
            "\n",
            "\n",
            "\n",
            "\n",
            "\n",
            "\n",
            "\n",
            "O site do IFPR usa cookies. Para mais detalhes, leia a nossa Política de Cookies.\n",
            "Como desabilitar cookiesAceitar\n",
            "\n",
            "\n",
            "\n",
            "\n",
            "\n",
            "\n",
            "\n",
            "\n",
            "\n",
            "\n",
            "\n"
          ]
        }
      ]
    },
    {
      "cell_type": "markdown",
      "source": [
        "#Passo 2: Pré-processamento do texto extraído"
      ],
      "metadata": {
        "id": "m3zbljw7wLxf"
      }
    },
    {
      "cell_type": "code",
      "source": [
        "import nltk\n",
        "from nltk.tokenize import word_tokenize\n",
        "from nltk.corpus import stopwords\n",
        "import string\n",
        "\n",
        "# Baixando recursos necessários do nltk\n",
        "nltk.download('punkt')\n",
        "nltk.download('stopwords')\n",
        "\n",
        "# Função de pré-processamento\n",
        "def preprocess_text(text):\n",
        "    # Tokenização\n",
        "    tokens = word_tokenize(text)\n",
        "\n",
        "    # Remoção de pontuação e stop words\n",
        "    stop_words = set(stopwords.words('english'))\n",
        "    tokens = [word for word in tokens if word.isalnum() and word.lower() not in stop_words]\n",
        "\n",
        "    return tokens\n",
        "\n",
        "# Pré-processando o texto extraído\n",
        "processed_text = preprocess_text(text)\n",
        "print(processed_text)\n"
      ],
      "metadata": {
        "colab": {
          "base_uri": "https://localhost:8080/"
        },
        "id": "0mtcgjqEwMwB",
        "outputId": "0dc3ed39-5901-4d48-d8cb-218428513a51"
      },
      "execution_count": 2,
      "outputs": [
        {
          "output_type": "stream",
          "name": "stdout",
          "text": [
            "['Campus', 'Colombo', 'IFPR', 'Educação', 'Pública', 'Gratuita', 'e', 'de', 'Qualidade', 'Portal', 'Governo', 'Brasileiro', 'Instituto', 'Federal', 'Paraná', 'Marca', 'IFPR', 'INSTITUTO', 'FEDERAL', 'Paraná', 'Campus', 'Colombo', 'Pesquisar', 'em', 'Pesquisar', 'Pesquisar', 'Pesquisa', 'Pública', 'Início', 'Estude', 'IFPR', 'Nossos', 'Cursos', 'Técnicos', 'Integrados', 'Técnicos', 'Subsequentes', 'Superiores', 'Pronatec', 'Educação', 'Distância', 'InstitucionalO', 'Instituto', 'Instituto', 'Campus', 'Colombo', 'Fale', 'Conosco', 'Nossos', 'Cursos', 'Técnico', 'Integrado', 'em', 'Administração', 'Técnico', 'Integrado', 'em', 'Alimentos', 'Técnico', 'Integrado', 'em', 'Informática', 'Técnico', 'Subsequente', 'em', 'Administração', 'Tecnologia', 'em', 'Alimentos', 'Tecnologia', 'em', 'Análise', 'e', 'Desenvolvimento', 'de', 'Sistemas', 'Tecnologia', 'em', 'Processos', 'Gerenciais', 'Pesquisa', 'e', 'Extensão', 'Comitê', 'de', 'Pesquisa', 'e', 'Extensão', 'Órgãos', 'Colegiados', 'CODIC', 'Colégio', 'de', 'Dirigentes', 'Campus', 'NAPNE', 'Núcleo', 'de', 'Apoio', 'Pessoas', 'com', 'Necessidades', 'Especiais', 'NIT', 'Núcleo', 'de', 'Inovação', 'Tecnológica', 'Editais', 'e', 'Portarias', 'Estude', 'IFPR', 'Eventos', 'VII', 'ME²PI', 'Mostra', 'de', 'Ensino', 'Extensão', 'Pesquisa', 'e', 'Inovação', 'Olimpíada', 'de', 'Robótica', 'IFTECH', 'IFAGROTECH', 'Projeto', 'Político', 'Pedagógico', 'CPA', 'Comissão', 'Própria', 'de', 'Avaliação', 'AcadêmicoCalendário', 'Acadêmico', 'Horário', 'das', 'Aulas', 'Rematrícula', 'Transferência', 'Docentes', 'Calendário', 'Acadêmico', 'Documentos', 'e', 'Formulários', 'Relação', 'de', 'Professores', 'Sistemas', 'SCPPD', 'Estudantes', 'Agenda', 'Diretório', 'Acadêmico', 'Tutorial', 'SIGAA', 'SIGAA', 'NAPNE', 'Núcleos', 'de', 'Atendimento', 'às', 'Pessoas', 'com', 'Necessidades', 'Específicas', 'Educação', 'Especial', 'Biblioteca', 'Secretaria', 'Secretaria', 'Acadêmica', 'Documentos', 'SEPAE', 'Seção', 'Pedagógica', 'e', 'Assuntos', 'Estudantis', 'SEPAE', 'Equipe', 'da', 'SEPAE', 'Horário', 'de', 'Atendimento', 'da', 'SEPAE', 'Atendimento', 'aos', 'Alunos', 'Guia', 'Estudante', 'Boletins', 'e', 'outros', 'documentos', 'Direitos', 'e', 'Deveres', 'dos', 'Estudantes', 'Assistência', 'Estudantil', 'Bolsas', 'e', 'Auxílios', 'Informações', 'sobre', 'os', 'Cursos', 'e', 'Dependências', 'Seção', 'de', 'EstágiosEstágio', 'Planejamento', 'e', 'AdministraçãoLicitações', 'PAC', 'Plano', 'Anual', 'de', 'Contratações', 'Editais', 'Concursos', 'e', 'SeleçõesProcesso', 'Seletivo', 'Simplificado', 'Professores', 'Estagiários', 'Seleção', 'de', 'alunos', 'Concursos', 'e', 'Seleções', 'encerrados', 'Assistência', 'EstudantilEditais', 'Assistência', 'Estudantil', 'Página', 'Servidor', 'Informações', 'sobre', 'vida', 'funcional', 'Sistemas', 'Sistemas', 'Acadêmicos', 'Administrativos', 'e', 'Helpdesk', 'Rede', 'de', 'Bibliotecas', 'IFPR', 'Informações', 'sobre', 'bibliotecas', 'IFPR', 'Segurança', 'e', 'Prevenção', 'IFPR', 'pela', 'paz', 'Portal', 'das', 'Artes', 'Atividades', 'artísticas', 'e', 'culturais', 'Diplomas', 'Informações', 'sobre', 'emissão', 'de', 'diplomas', 'Processo', 'Seletivo', 'Notícias', 'Inventário', 'Anual', 'da', 'Biblioteca', 'Biblioteca', 'Campus', 'Colombo', 'estará', 'fechada', 'entre', 'os', 'dias', '29', 'de', 'julho', 'e', '7', 'de', 'agosto', 'para', 'realização', 'inventário', 'anual', 'acervo', 'bibliográfico', 'Por', 'isso', 'além', 'atendimento', 'os', 'serviços', 'de', 'empréstimo', 'e', 'devolução', 'também', 'estarão', 'suspensos', 'Os', 'Notícias', 'Publicados', 'os', 'editais', 'de', 'afastamento', 'para', 'Campus', 'Colombo', 'Foram', 'publicados', 'hoje', 'os', 'editais', 'que', 'tratam', 'afastamento', 'integral', 'para', 'participação', 'em', 'programa', 'de', 'stricto', 'sensu', 'ou', 'de', 'para', 'PACE', 'PACE', 'Retificação', 'Edital', 'nº', '34', 'de', '22', 'de', 'março', 'de', '2024', 'Tornamos', 'pública', 'retificação', 'Edital', 'nº', '34', 'de', '22', 'de', 'março', 'de', '2024', 'inscrições', 'serão', 'recebidas', 'das', '08h', 'Notícias', 'Sexta', 'ChamadaComplementar', 'Processo', 'Seletivo', 'IFPR', 'dos', 'Cursos', 'Técnicos', 'de', 'Nível', 'Médio', 'Tornamos', 'pública', 'SEXTA', 'CHAMADA', 'COMPLEMENTAR', 'PROCESSO', 'SELETIVO', 'IFPR', 'dos', 'Cursos', 'Técnicosde', 'Nível', 'Médio', 'Insti', 'tuto', 'Federal', 'Notícias', 'Termo', 'de', 'de', 'Bens', 'Inservíveis', 'Tornamos', 'público', 'Termo', 'de', 'Habilitação', 'concernente', 'às', 'instituições', 'que', 'manifestaram', 'interesse', 'Edital', 'nº', '22', 'de', '14', 'de', 'março', 'Notícias', 'IFPR', 'Campus', 'Colombo', 'foi', 'sede', '1º', 'Talk', 'de', 'Inovação', 'Aberta', 'de', 'Colombo', 'Conselho', 'Superior', 'Instituto', 'Federal', 'Paraná', 'suspende', 'calendário', 'acadêmico', 'partir', 'de', '01', 'de', 'maio', 'Comunicado', 'para', 'Comunidade', 'Acadêmica', 'IFPR', 'Campus', 'Colombo', 'Inscrição', 'para', 'PROGRAMA', 'DE', 'ASSISTÊNCIA', 'COMPLEMENTAR', 'AO', 'ESTUDANTE', 'PACE', '2024', 'II', 'Edição', 'Parceria', 'IFPR', 'e', 'Instituto', 'Politécnico', 'de', 'Viana', 'Castelo', 'IPVC', 'Portugal', 'Mais', 'notícias', 'julho', '2024', 'IFPR', 'Facebook', 'Conexão', 'IFPR', 'Mulheres', 'na', 'Ciência', 'e', 'Mundo', 'Trabalho', 'Volta', 'às', 'Aulas', '2023', 'Acesse', 'Conexão', 'IFPR', 'para', 'assistir', 'mais', 'vídeos', 'Páginas', 'dos', 'CampiInstitucional', 'Arapongas', 'Assis', 'Chateaubriand', 'Astorga', 'Barracão', 'Campo', 'Largo', 'Capanema', 'Cascavel', 'Colombo', 'Coronel', 'Vivida', 'Curitiba', 'Foz', 'Iguaçu', 'Goioerê', 'Irati', 'Ivaiporã', 'Jacarezinho', 'Jaguariaíva', 'Londrina', 'Palmas', 'Paranaguá', 'Paranavaí', 'Pinhais', 'Pitanga', 'Quedas', 'Iguaçu', 'Telêmaco', 'Borba', 'Umuarama', 'União', 'da', 'Vitória', 'Nossos', 'CursosTécnicos', 'Integrados', 'Técnicos', 'Subsequentes', 'Superiores', 'Educação', 'Distância', 'Páginas', 'dos', 'CampiInstitucional', 'Arapongas', 'Assis', 'Chateaubriand', 'Astorga', 'Barracão', 'Campo', 'Largo', 'Capanema', 'Cascavel', 'Colombo', 'Coronel', 'Vivida', 'Curitiba', 'Foz', 'Iguaçu', 'Goioerê', 'Irati', 'Ivaiporã', 'Jacarezinho', 'Jaguariaíva', 'Londrina', 'Palmas', 'Paranaguá', 'Paranavaí', 'Pinhais', 'Pitanga', 'Quedas', 'Iguaçu', 'Telêmaco', 'Borba', 'Umuarama', 'União', 'da', 'Vitória', 'Fale', 'ConoscoFale', 'Conosco', 'Ouvidoria', 'Redes', 'SociaisFacebook', 'Youtube', 'Instagram', 'PrivacidadePolítica', 'de', 'Privacidade', 'Política', 'de', 'Cookies', 'Sistema', 'Consulte', 'cadastro', 'IFPR', 'IFPR', 'Campus', 'Colombo', 'Rua', 'Antonio', 'Chemin', '28', 'São', 'Gabriel', 'Colombo', 'PR', 'CEP', 'Telefone', 'Topo', 'site', 'IFPR', 'usa', 'cookies', 'Para', 'mais', 'detalhes', 'leia', 'nossa', 'Política', 'de', 'Cookies', 'Como', 'desabilitar', 'cookiesAceitar']\n"
          ]
        },
        {
          "output_type": "stream",
          "name": "stderr",
          "text": [
            "[nltk_data] Downloading package punkt to /root/nltk_data...\n",
            "[nltk_data]   Package punkt is already up-to-date!\n",
            "[nltk_data] Downloading package stopwords to /root/nltk_data...\n",
            "[nltk_data]   Package stopwords is already up-to-date!\n"
          ]
        }
      ]
    },
    {
      "cell_type": "markdown",
      "source": [
        "#Passo 3: Treinamento de um modelo LLM\n",
        "Aqui, vamos usar um modelo pré-treinado da Hugging Face e ajustar ele com os dados extraídos. Para simplificação, usaremos o modelo GPT-2."
      ],
      "metadata": {
        "id": "_nVDaZeCwOgO"
      }
    },
    {
      "cell_type": "code",
      "source": [
        "!pip install dataset"
      ],
      "metadata": {
        "colab": {
          "base_uri": "https://localhost:8080/"
        },
        "id": "YI8bMks9wt2v",
        "outputId": "0cb1000e-6ee4-45ae-cd98-058b4f2b5e5d"
      },
      "execution_count": 3,
      "outputs": [
        {
          "output_type": "stream",
          "name": "stdout",
          "text": [
            "Requirement already satisfied: dataset in /usr/local/lib/python3.10/dist-packages (1.6.2)\n",
            "Requirement already satisfied: sqlalchemy<2.0.0,>=1.3.2 in /usr/local/lib/python3.10/dist-packages (from dataset) (1.4.52)\n",
            "Requirement already satisfied: alembic>=0.6.2 in /usr/local/lib/python3.10/dist-packages (from dataset) (1.13.2)\n",
            "Requirement already satisfied: banal>=1.0.1 in /usr/local/lib/python3.10/dist-packages (from dataset) (1.0.6)\n",
            "Requirement already satisfied: Mako in /usr/local/lib/python3.10/dist-packages (from alembic>=0.6.2->dataset) (1.3.5)\n",
            "Requirement already satisfied: typing-extensions>=4 in /usr/local/lib/python3.10/dist-packages (from alembic>=0.6.2->dataset) (4.12.2)\n",
            "Requirement already satisfied: greenlet!=0.4.17 in /usr/local/lib/python3.10/dist-packages (from sqlalchemy<2.0.0,>=1.3.2->dataset) (3.0.3)\n",
            "Requirement already satisfied: MarkupSafe>=0.9.2 in /usr/local/lib/python3.10/dist-packages (from Mako->alembic>=0.6.2->dataset) (2.1.5)\n"
          ]
        }
      ]
    },
    {
      "cell_type": "code",
      "source": [
        "!pip install transformers datasets"
      ],
      "metadata": {
        "colab": {
          "base_uri": "https://localhost:8080/"
        },
        "id": "A8am0Y-nxZ13",
        "outputId": "dfdab243-66b4-4bc5-c12f-a13c0cde8f66"
      },
      "execution_count": 4,
      "outputs": [
        {
          "output_type": "stream",
          "name": "stdout",
          "text": [
            "Requirement already satisfied: transformers in /usr/local/lib/python3.10/dist-packages (4.42.4)\n",
            "Requirement already satisfied: datasets in /usr/local/lib/python3.10/dist-packages (2.20.0)\n",
            "Requirement already satisfied: filelock in /usr/local/lib/python3.10/dist-packages (from transformers) (3.15.4)\n",
            "Requirement already satisfied: huggingface-hub<1.0,>=0.23.2 in /usr/local/lib/python3.10/dist-packages (from transformers) (0.23.5)\n",
            "Requirement already satisfied: numpy<2.0,>=1.17 in /usr/local/lib/python3.10/dist-packages (from transformers) (1.25.2)\n",
            "Requirement already satisfied: packaging>=20.0 in /usr/local/lib/python3.10/dist-packages (from transformers) (24.1)\n",
            "Requirement already satisfied: pyyaml>=5.1 in /usr/local/lib/python3.10/dist-packages (from transformers) (6.0.1)\n",
            "Requirement already satisfied: regex!=2019.12.17 in /usr/local/lib/python3.10/dist-packages (from transformers) (2024.5.15)\n",
            "Requirement already satisfied: requests in /usr/local/lib/python3.10/dist-packages (from transformers) (2.32.3)\n",
            "Requirement already satisfied: safetensors>=0.4.1 in /usr/local/lib/python3.10/dist-packages (from transformers) (0.4.3)\n",
            "Requirement already satisfied: tokenizers<0.20,>=0.19 in /usr/local/lib/python3.10/dist-packages (from transformers) (0.19.1)\n",
            "Requirement already satisfied: tqdm>=4.27 in /usr/local/lib/python3.10/dist-packages (from transformers) (4.66.4)\n",
            "Requirement already satisfied: pyarrow>=15.0.0 in /usr/local/lib/python3.10/dist-packages (from datasets) (17.0.0)\n",
            "Requirement already satisfied: pyarrow-hotfix in /usr/local/lib/python3.10/dist-packages (from datasets) (0.6)\n",
            "Requirement already satisfied: dill<0.3.9,>=0.3.0 in /usr/local/lib/python3.10/dist-packages (from datasets) (0.3.8)\n",
            "Requirement already satisfied: pandas in /usr/local/lib/python3.10/dist-packages (from datasets) (2.0.3)\n",
            "Requirement already satisfied: xxhash in /usr/local/lib/python3.10/dist-packages (from datasets) (3.4.1)\n",
            "Requirement already satisfied: multiprocess in /usr/local/lib/python3.10/dist-packages (from datasets) (0.70.16)\n",
            "Requirement already satisfied: fsspec<=2024.5.0,>=2023.1.0 in /usr/local/lib/python3.10/dist-packages (from fsspec[http]<=2024.5.0,>=2023.1.0->datasets) (2023.6.0)\n",
            "Requirement already satisfied: aiohttp in /usr/local/lib/python3.10/dist-packages (from datasets) (3.9.5)\n",
            "Requirement already satisfied: aiosignal>=1.1.2 in /usr/local/lib/python3.10/dist-packages (from aiohttp->datasets) (1.3.1)\n",
            "Requirement already satisfied: attrs>=17.3.0 in /usr/local/lib/python3.10/dist-packages (from aiohttp->datasets) (23.2.0)\n",
            "Requirement already satisfied: frozenlist>=1.1.1 in /usr/local/lib/python3.10/dist-packages (from aiohttp->datasets) (1.4.1)\n",
            "Requirement already satisfied: multidict<7.0,>=4.5 in /usr/local/lib/python3.10/dist-packages (from aiohttp->datasets) (6.0.5)\n",
            "Requirement already satisfied: yarl<2.0,>=1.0 in /usr/local/lib/python3.10/dist-packages (from aiohttp->datasets) (1.9.4)\n",
            "Requirement already satisfied: async-timeout<5.0,>=4.0 in /usr/local/lib/python3.10/dist-packages (from aiohttp->datasets) (4.0.3)\n",
            "Requirement already satisfied: typing-extensions>=3.7.4.3 in /usr/local/lib/python3.10/dist-packages (from huggingface-hub<1.0,>=0.23.2->transformers) (4.12.2)\n",
            "Requirement already satisfied: charset-normalizer<4,>=2 in /usr/local/lib/python3.10/dist-packages (from requests->transformers) (3.3.2)\n",
            "Requirement already satisfied: idna<4,>=2.5 in /usr/local/lib/python3.10/dist-packages (from requests->transformers) (3.7)\n",
            "Requirement already satisfied: urllib3<3,>=1.21.1 in /usr/local/lib/python3.10/dist-packages (from requests->transformers) (2.0.7)\n",
            "Requirement already satisfied: certifi>=2017.4.17 in /usr/local/lib/python3.10/dist-packages (from requests->transformers) (2024.7.4)\n",
            "Requirement already satisfied: python-dateutil>=2.8.2 in /usr/local/lib/python3.10/dist-packages (from pandas->datasets) (2.8.2)\n",
            "Requirement already satisfied: pytz>=2020.1 in /usr/local/lib/python3.10/dist-packages (from pandas->datasets) (2023.4)\n",
            "Requirement already satisfied: tzdata>=2022.1 in /usr/local/lib/python3.10/dist-packages (from pandas->datasets) (2024.1)\n",
            "Requirement already satisfied: six>=1.5 in /usr/local/lib/python3.10/dist-packages (from python-dateutil>=2.8.2->pandas->datasets) (1.16.0)\n"
          ]
        }
      ]
    },
    {
      "cell_type": "code",
      "source": [
        "from transformers import GPT2Tokenizer, GPT2LMHeadModel, Trainer, TrainingArguments, DataCollatorForLanguageModeling\n",
        "from datasets import Dataset"
      ],
      "metadata": {
        "id": "GKacfn6Rxenu"
      },
      "execution_count": 19,
      "outputs": []
    },
    {
      "cell_type": "code",
      "source": [
        "# Convertendo o texto pré-processado de volta para uma string\n",
        "training_text = ' '.join(processed_text)"
      ],
      "metadata": {
        "id": "s9Cw-kCJxktv"
      },
      "execution_count": 20,
      "outputs": []
    },
    {
      "cell_type": "code",
      "source": [
        "# Criando um dataset com o texto de treinamento\n",
        "dataset = Dataset.from_dict({'text': [training_text]})"
      ],
      "metadata": {
        "id": "kC2C-yaOxnH-"
      },
      "execution_count": 22,
      "outputs": []
    },
    {
      "cell_type": "code",
      "source": [
        "# Inicializando o tokenizer\n",
        "tokenizer = GPT2Tokenizer.from_pretrained('gpt2')"
      ],
      "metadata": {
        "id": "CzF6ar_cxpI-"
      },
      "execution_count": 23,
      "outputs": []
    },
    {
      "cell_type": "code",
      "source": [
        "# Adicionando o token de padding\n",
        "tokenizer.pad_token = tokenizer.eos_token"
      ],
      "metadata": {
        "id": "z-nnuecKxrQ3"
      },
      "execution_count": 24,
      "outputs": []
    },
    {
      "cell_type": "code",
      "source": [
        "# Tokenizando o dataset\n",
        "tokenized_datasets = dataset.map(tokenize_function, batched=True, remove_columns=['text'])\n"
      ],
      "metadata": {
        "colab": {
          "base_uri": "https://localhost:8080/",
          "height": 49,
          "referenced_widgets": [
            "a27fc39638bc4c00bfb474083bda1066",
            "781eed0b95ec4122a9ea018e47f54a8e",
            "b1ac4fff2b174ec3aa4cd00b54899942",
            "71e9b4a73b6b47f1ac767b7dfc64ae92",
            "a198269d28134bc1983cdc49a63f03b9",
            "d099fe88fddd48b39239f622c567e2bf",
            "2df60c18fb304ec7995f40ece924b5c5",
            "9b7ec22005fe43bebac430a052a4accb",
            "7ad296f389fd45af99f4ff3b5bef01b1",
            "6d3156813e804b38b061ff59619aa8cd",
            "487a3fc7e9f74f789b99c4972f76e39b"
          ]
        },
        "id": "cYuaznmBxrP_",
        "outputId": "d73f0369-b23f-460d-d086-866d4106ddee"
      },
      "execution_count": 26,
      "outputs": [
        {
          "output_type": "display_data",
          "data": {
            "text/plain": [
              "Map:   0%|          | 0/1 [00:00<?, ? examples/s]"
            ],
            "application/vnd.jupyter.widget-view+json": {
              "version_major": 2,
              "version_minor": 0,
              "model_id": "a27fc39638bc4c00bfb474083bda1066"
            }
          },
          "metadata": {}
        }
      ]
    },
    {
      "cell_type": "code",
      "source": [
        "# Função para contar tokens\n",
        "def count_tokens(examples):\n",
        "    examples['num_tokens'] = [len(input_id) for input_id in examples['input_ids']]\n",
        "    return examples\n",
        "\n",
        "# Contando tokens no dataset tokenizado\n",
        "tokenized_datasets = tokenized_datasets.map(count_tokens, batched=True)\n",
        "\n",
        "# Exibindo a contagem de tokens\n",
        "print(tokenized_datasets['num_tokens'])"
      ],
      "metadata": {
        "colab": {
          "base_uri": "https://localhost:8080/",
          "height": 66,
          "referenced_widgets": [
            "e8afb1a3ea374aad9cec699956498fdb",
            "01e2d03f74b44ca6a27431f2d209c73a",
            "e519c76f7f8e49d8b4f62399c6be2c92",
            "0cbe539cd8334012ad458b62b42c6cb0",
            "4e160e8d9d9a4c748e2558b119b97700",
            "4a9a251301e6427b9c527026522a1d83",
            "cd86816d70924c27855918e0f952ba1a",
            "a00c0af33f474fa8950518d5db4165aa",
            "389953f0fb5c489eb3f79c5274509a2b",
            "3c6dc730988a44738ce2063a88aa2c85",
            "f8f59a4ec9974c97b2922ef9e8f7295f"
          ]
        },
        "id": "-Y0_J2W0xwkH",
        "outputId": "f73a5abe-0efd-4766-c860-0f8a03dc536c"
      },
      "execution_count": 28,
      "outputs": [
        {
          "output_type": "display_data",
          "data": {
            "text/plain": [
              "Map:   0%|          | 0/1 [00:00<?, ? examples/s]"
            ],
            "application/vnd.jupyter.widget-view+json": {
              "version_major": 2,
              "version_minor": 0,
              "model_id": "e8afb1a3ea374aad9cec699956498fdb"
            }
          },
          "metadata": {}
        },
        {
          "output_type": "stream",
          "name": "stdout",
          "text": [
            "[1024]\n"
          ]
        }
      ]
    },
    {
      "cell_type": "code",
      "source": [
        "# Trainer\n",
        "trainer = Trainer(\n",
        "    model=model,\n",
        "    args=training_args,\n",
        "    data_collator=data_collator,\n",
        "    train_dataset=tokenized_datasets,\n",
        ")"
      ],
      "metadata": {
        "id": "pOrxIsgHxzdD"
      },
      "execution_count": 30,
      "outputs": []
    },
    {
      "cell_type": "code",
      "source": [
        "# Treinamento\n",
        "trainer.train()"
      ],
      "metadata": {
        "colab": {
          "base_uri": "https://localhost:8080/",
          "height": 93
        },
        "id": "CjBAIyqB0phv",
        "outputId": "d9d6ee82-3a14-4903-bbe5-5e48d08b2f71"
      },
      "execution_count": 31,
      "outputs": [
        {
          "output_type": "display_data",
          "data": {
            "text/plain": [
              "<IPython.core.display.HTML object>"
            ],
            "text/html": [
              "\n",
              "    <div>\n",
              "      \n",
              "      <progress value='1' max='1' style='width:300px; height:20px; vertical-align: middle;'></progress>\n",
              "      [1/1 00:09, Epoch 1/1]\n",
              "    </div>\n",
              "    <table border=\"1\" class=\"dataframe\">\n",
              "  <thead>\n",
              " <tr style=\"text-align: left;\">\n",
              "      <th>Step</th>\n",
              "      <th>Training Loss</th>\n",
              "    </tr>\n",
              "  </thead>\n",
              "  <tbody>\n",
              "  </tbody>\n",
              "</table><p>"
            ]
          },
          "metadata": {}
        },
        {
          "output_type": "execute_result",
          "data": {
            "text/plain": [
              "TrainOutput(global_step=1, training_loss=4.456427574157715, metrics={'train_runtime': 48.7074, 'train_samples_per_second': 0.021, 'train_steps_per_second': 0.021, 'total_flos': 522584064000.0, 'train_loss': 4.456427574157715, 'epoch': 1.0})"
            ]
          },
          "metadata": {},
          "execution_count": 31
        }
      ]
    },
    {
      "cell_type": "code",
      "source": [
        "# Salvando o modelo treinado e o tokenizer\n",
        "model.save_pretrained('./results')\n",
        "tokenizer.save_pretrained('./results')"
      ],
      "metadata": {
        "colab": {
          "base_uri": "https://localhost:8080/"
        },
        "id": "qV9cZcOF1h85",
        "outputId": "12c3e43d-aa62-403d-a35b-631615dfc335"
      },
      "execution_count": 34,
      "outputs": [
        {
          "output_type": "execute_result",
          "data": {
            "text/plain": [
              "('./results/tokenizer_config.json',\n",
              " './results/special_tokens_map.json',\n",
              " './results/vocab.json',\n",
              " './results/merges.txt',\n",
              " './results/added_tokens.json')"
            ]
          },
          "metadata": {},
          "execution_count": 34
        }
      ]
    },
    {
      "cell_type": "markdown",
      "source": [
        "#Testando o Modelo Treinado"
      ],
      "metadata": {
        "id": "owgzDjpb1B03"
      }
    },
    {
      "cell_type": "code",
      "source": [
        "from transformers import pipeline"
      ],
      "metadata": {
        "id": "vX1wa6zPwYGA"
      },
      "execution_count": 35,
      "outputs": []
    },
    {
      "cell_type": "code",
      "source": [
        "# Carregando o modelo treinado e o tokenizer\n",
        "model_path = \"./results\"\n",
        "model = GPT2LMHeadModel.from_pretrained(model_path)\n",
        "tokenizer = GPT2Tokenizer.from_pretrained(model_path)"
      ],
      "metadata": {
        "id": "nIPxYVp_1F1e"
      },
      "execution_count": 37,
      "outputs": []
    },
    {
      "cell_type": "code",
      "source": [
        "# Criando o pipeline\n",
        "qa_pipeline = pipeline(\"text-generation\", model=model, tokenizer=tokenizer)"
      ],
      "metadata": {
        "id": "Ub_LxcBD1F0v"
      },
      "execution_count": 38,
      "outputs": []
    },
    {
      "cell_type": "code",
      "source": [
        "# Fazendo perguntas ao modelo\n",
        "question = \"cursos\"\n",
        "response = qa_pipeline(question)\n",
        "\n",
        "print(response[0]['generated_text'])"
      ],
      "metadata": {
        "colab": {
          "base_uri": "https://localhost:8080/"
        },
        "id": "1XJk9WMs1wj-",
        "outputId": "21f708f0-6bbb-4eca-95e1-00218e9aaa76"
      },
      "execution_count": 40,
      "outputs": [
        {
          "output_type": "stream",
          "name": "stdout",
          "text": [
            "cursos,\" according to a tweet from his representative. He added, \"I'd like to thank them for their hard work in the community and for doing our part to protect us from terrorism. Also, I would like to express our gratitude to\n"
          ]
        }
      ]
    }
  ]
}