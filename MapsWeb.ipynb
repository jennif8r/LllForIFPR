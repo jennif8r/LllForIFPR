{
  "nbformat": 4,
  "nbformat_minor": 0,
  "metadata": {
    "colab": {
      "provenance": [],
      "collapsed_sections": [
        "9GUuPiJfXNSG"
      ],
      "authorship_tag": "ABX9TyM/f9N3KH4PxlrrXvlGIP8O",
      "include_colab_link": true
    },
    "kernelspec": {
      "name": "python3",
      "display_name": "Python 3"
    },
    "language_info": {
      "name": "python"
    },
    "widgets": {
      "application/vnd.jupyter.widget-state+json": {
        "a78a6084e710475ea8711fd6eca07a0f": {
          "model_module": "@jupyter-widgets/controls",
          "model_name": "HBoxModel",
          "model_module_version": "1.5.0",
          "state": {
            "_dom_classes": [],
            "_model_module": "@jupyter-widgets/controls",
            "_model_module_version": "1.5.0",
            "_model_name": "HBoxModel",
            "_view_count": null,
            "_view_module": "@jupyter-widgets/controls",
            "_view_module_version": "1.5.0",
            "_view_name": "HBoxView",
            "box_style": "",
            "children": [
              "IPY_MODEL_518ab14a80da4aa1a70c248a2e791476",
              "IPY_MODEL_c8de95b1c4034a37ac4e6f0b82ee08ff",
              "IPY_MODEL_86bb14433d2b4e07b43a53a89de9ff54"
            ],
            "layout": "IPY_MODEL_54cd5c67bfe741f4a03a6d374157e336"
          }
        },
        "518ab14a80da4aa1a70c248a2e791476": {
          "model_module": "@jupyter-widgets/controls",
          "model_name": "HTMLModel",
          "model_module_version": "1.5.0",
          "state": {
            "_dom_classes": [],
            "_model_module": "@jupyter-widgets/controls",
            "_model_module_version": "1.5.0",
            "_model_name": "HTMLModel",
            "_view_count": null,
            "_view_module": "@jupyter-widgets/controls",
            "_view_module_version": "1.5.0",
            "_view_name": "HTMLView",
            "description": "",
            "description_tooltip": null,
            "layout": "IPY_MODEL_6a12e1cbd890499b9ac98a4cca9850b6",
            "placeholder": "​",
            "style": "IPY_MODEL_af9b39387ae4485a961b7b58b44dd014",
            "value": "Map: 100%"
          }
        },
        "c8de95b1c4034a37ac4e6f0b82ee08ff": {
          "model_module": "@jupyter-widgets/controls",
          "model_name": "FloatProgressModel",
          "model_module_version": "1.5.0",
          "state": {
            "_dom_classes": [],
            "_model_module": "@jupyter-widgets/controls",
            "_model_module_version": "1.5.0",
            "_model_name": "FloatProgressModel",
            "_view_count": null,
            "_view_module": "@jupyter-widgets/controls",
            "_view_module_version": "1.5.0",
            "_view_name": "ProgressView",
            "bar_style": "success",
            "description": "",
            "description_tooltip": null,
            "layout": "IPY_MODEL_2fb1330a1fa7469e84f42ab2ab164113",
            "max": 7,
            "min": 0,
            "orientation": "horizontal",
            "style": "IPY_MODEL_1a5c59b7fdaa48feb46058b56427e2c7",
            "value": 7
          }
        },
        "86bb14433d2b4e07b43a53a89de9ff54": {
          "model_module": "@jupyter-widgets/controls",
          "model_name": "HTMLModel",
          "model_module_version": "1.5.0",
          "state": {
            "_dom_classes": [],
            "_model_module": "@jupyter-widgets/controls",
            "_model_module_version": "1.5.0",
            "_model_name": "HTMLModel",
            "_view_count": null,
            "_view_module": "@jupyter-widgets/controls",
            "_view_module_version": "1.5.0",
            "_view_name": "HTMLView",
            "description": "",
            "description_tooltip": null,
            "layout": "IPY_MODEL_b874332ec81a4a308c225ee1734b4c40",
            "placeholder": "​",
            "style": "IPY_MODEL_7985f25a2ec145a78114340328cf47b2",
            "value": " 7/7 [00:00&lt;00:00, 58.28 examples/s]"
          }
        },
        "54cd5c67bfe741f4a03a6d374157e336": {
          "model_module": "@jupyter-widgets/base",
          "model_name": "LayoutModel",
          "model_module_version": "1.2.0",
          "state": {
            "_model_module": "@jupyter-widgets/base",
            "_model_module_version": "1.2.0",
            "_model_name": "LayoutModel",
            "_view_count": null,
            "_view_module": "@jupyter-widgets/base",
            "_view_module_version": "1.2.0",
            "_view_name": "LayoutView",
            "align_content": null,
            "align_items": null,
            "align_self": null,
            "border": null,
            "bottom": null,
            "display": null,
            "flex": null,
            "flex_flow": null,
            "grid_area": null,
            "grid_auto_columns": null,
            "grid_auto_flow": null,
            "grid_auto_rows": null,
            "grid_column": null,
            "grid_gap": null,
            "grid_row": null,
            "grid_template_areas": null,
            "grid_template_columns": null,
            "grid_template_rows": null,
            "height": null,
            "justify_content": null,
            "justify_items": null,
            "left": null,
            "margin": null,
            "max_height": null,
            "max_width": null,
            "min_height": null,
            "min_width": null,
            "object_fit": null,
            "object_position": null,
            "order": null,
            "overflow": null,
            "overflow_x": null,
            "overflow_y": null,
            "padding": null,
            "right": null,
            "top": null,
            "visibility": null,
            "width": null
          }
        },
        "6a12e1cbd890499b9ac98a4cca9850b6": {
          "model_module": "@jupyter-widgets/base",
          "model_name": "LayoutModel",
          "model_module_version": "1.2.0",
          "state": {
            "_model_module": "@jupyter-widgets/base",
            "_model_module_version": "1.2.0",
            "_model_name": "LayoutModel",
            "_view_count": null,
            "_view_module": "@jupyter-widgets/base",
            "_view_module_version": "1.2.0",
            "_view_name": "LayoutView",
            "align_content": null,
            "align_items": null,
            "align_self": null,
            "border": null,
            "bottom": null,
            "display": null,
            "flex": null,
            "flex_flow": null,
            "grid_area": null,
            "grid_auto_columns": null,
            "grid_auto_flow": null,
            "grid_auto_rows": null,
            "grid_column": null,
            "grid_gap": null,
            "grid_row": null,
            "grid_template_areas": null,
            "grid_template_columns": null,
            "grid_template_rows": null,
            "height": null,
            "justify_content": null,
            "justify_items": null,
            "left": null,
            "margin": null,
            "max_height": null,
            "max_width": null,
            "min_height": null,
            "min_width": null,
            "object_fit": null,
            "object_position": null,
            "order": null,
            "overflow": null,
            "overflow_x": null,
            "overflow_y": null,
            "padding": null,
            "right": null,
            "top": null,
            "visibility": null,
            "width": null
          }
        },
        "af9b39387ae4485a961b7b58b44dd014": {
          "model_module": "@jupyter-widgets/controls",
          "model_name": "DescriptionStyleModel",
          "model_module_version": "1.5.0",
          "state": {
            "_model_module": "@jupyter-widgets/controls",
            "_model_module_version": "1.5.0",
            "_model_name": "DescriptionStyleModel",
            "_view_count": null,
            "_view_module": "@jupyter-widgets/base",
            "_view_module_version": "1.2.0",
            "_view_name": "StyleView",
            "description_width": ""
          }
        },
        "2fb1330a1fa7469e84f42ab2ab164113": {
          "model_module": "@jupyter-widgets/base",
          "model_name": "LayoutModel",
          "model_module_version": "1.2.0",
          "state": {
            "_model_module": "@jupyter-widgets/base",
            "_model_module_version": "1.2.0",
            "_model_name": "LayoutModel",
            "_view_count": null,
            "_view_module": "@jupyter-widgets/base",
            "_view_module_version": "1.2.0",
            "_view_name": "LayoutView",
            "align_content": null,
            "align_items": null,
            "align_self": null,
            "border": null,
            "bottom": null,
            "display": null,
            "flex": null,
            "flex_flow": null,
            "grid_area": null,
            "grid_auto_columns": null,
            "grid_auto_flow": null,
            "grid_auto_rows": null,
            "grid_column": null,
            "grid_gap": null,
            "grid_row": null,
            "grid_template_areas": null,
            "grid_template_columns": null,
            "grid_template_rows": null,
            "height": null,
            "justify_content": null,
            "justify_items": null,
            "left": null,
            "margin": null,
            "max_height": null,
            "max_width": null,
            "min_height": null,
            "min_width": null,
            "object_fit": null,
            "object_position": null,
            "order": null,
            "overflow": null,
            "overflow_x": null,
            "overflow_y": null,
            "padding": null,
            "right": null,
            "top": null,
            "visibility": null,
            "width": null
          }
        },
        "1a5c59b7fdaa48feb46058b56427e2c7": {
          "model_module": "@jupyter-widgets/controls",
          "model_name": "ProgressStyleModel",
          "model_module_version": "1.5.0",
          "state": {
            "_model_module": "@jupyter-widgets/controls",
            "_model_module_version": "1.5.0",
            "_model_name": "ProgressStyleModel",
            "_view_count": null,
            "_view_module": "@jupyter-widgets/base",
            "_view_module_version": "1.2.0",
            "_view_name": "StyleView",
            "bar_color": null,
            "description_width": ""
          }
        },
        "b874332ec81a4a308c225ee1734b4c40": {
          "model_module": "@jupyter-widgets/base",
          "model_name": "LayoutModel",
          "model_module_version": "1.2.0",
          "state": {
            "_model_module": "@jupyter-widgets/base",
            "_model_module_version": "1.2.0",
            "_model_name": "LayoutModel",
            "_view_count": null,
            "_view_module": "@jupyter-widgets/base",
            "_view_module_version": "1.2.0",
            "_view_name": "LayoutView",
            "align_content": null,
            "align_items": null,
            "align_self": null,
            "border": null,
            "bottom": null,
            "display": null,
            "flex": null,
            "flex_flow": null,
            "grid_area": null,
            "grid_auto_columns": null,
            "grid_auto_flow": null,
            "grid_auto_rows": null,
            "grid_column": null,
            "grid_gap": null,
            "grid_row": null,
            "grid_template_areas": null,
            "grid_template_columns": null,
            "grid_template_rows": null,
            "height": null,
            "justify_content": null,
            "justify_items": null,
            "left": null,
            "margin": null,
            "max_height": null,
            "max_width": null,
            "min_height": null,
            "min_width": null,
            "object_fit": null,
            "object_position": null,
            "order": null,
            "overflow": null,
            "overflow_x": null,
            "overflow_y": null,
            "padding": null,
            "right": null,
            "top": null,
            "visibility": null,
            "width": null
          }
        },
        "7985f25a2ec145a78114340328cf47b2": {
          "model_module": "@jupyter-widgets/controls",
          "model_name": "DescriptionStyleModel",
          "model_module_version": "1.5.0",
          "state": {
            "_model_module": "@jupyter-widgets/controls",
            "_model_module_version": "1.5.0",
            "_model_name": "DescriptionStyleModel",
            "_view_count": null,
            "_view_module": "@jupyter-widgets/base",
            "_view_module_version": "1.2.0",
            "_view_name": "StyleView",
            "description_width": ""
          }
        }
      }
    }
  },
  "cells": [
    {
      "cell_type": "markdown",
      "metadata": {
        "id": "view-in-github",
        "colab_type": "text"
      },
      "source": [
        "<a href=\"https://colab.research.google.com/github/jennif8r/LllForIFPR/blob/main/MapsWeb.ipynb\" target=\"_parent\"><img src=\"https://colab.research.google.com/assets/colab-badge.svg\" alt=\"Open In Colab\"/></a>"
      ]
    },
    {
      "cell_type": "markdown",
      "source": [
        "#1. Configuração do Ambiente\n"
      ],
      "metadata": {
        "id": "-vaI_XhBXIqn"
      }
    },
    {
      "cell_type": "markdown",
      "source": [
        "##2. Instalação de Bibliotecas"
      ],
      "metadata": {
        "id": "9GUuPiJfXNSG"
      }
    },
    {
      "cell_type": "code",
      "execution_count": 1,
      "metadata": {
        "colab": {
          "base_uri": "https://localhost:8080/"
        },
        "id": "ImzeKhetXBzg",
        "outputId": "b8e8ea60-7654-4e17-dcd8-821598f1233c"
      },
      "outputs": [
        {
          "output_type": "stream",
          "name": "stdout",
          "text": [
            "Requirement already satisfied: requests in /usr/local/lib/python3.10/dist-packages (2.31.0)\n",
            "Requirement already satisfied: charset-normalizer<4,>=2 in /usr/local/lib/python3.10/dist-packages (from requests) (3.3.2)\n",
            "Requirement already satisfied: idna<4,>=2.5 in /usr/local/lib/python3.10/dist-packages (from requests) (3.7)\n",
            "Requirement already satisfied: urllib3<3,>=1.21.1 in /usr/local/lib/python3.10/dist-packages (from requests) (2.0.7)\n",
            "Requirement already satisfied: certifi>=2017.4.17 in /usr/local/lib/python3.10/dist-packages (from requests) (2024.7.4)\n",
            "Requirement already satisfied: beautifulsoup4 in /usr/local/lib/python3.10/dist-packages (4.12.3)\n",
            "Requirement already satisfied: soupsieve>1.2 in /usr/local/lib/python3.10/dist-packages (from beautifulsoup4) (2.5)\n"
          ]
        }
      ],
      "source": [
        "!pip install requests\n",
        "!pip install beautifulsoup4\n"
      ]
    },
    {
      "cell_type": "markdown",
      "source": [
        "##3. Requisição e Análise do HTML\n"
      ],
      "metadata": {
        "id": "dugTSS0RXZwO"
      }
    },
    {
      "cell_type": "code",
      "source": [
        "import requests\n",
        "from bs4 import BeautifulSoup\n",
        "\n",
        "# URL do site da universidade fictícia\n",
        "url = 'https://ifpr.edu.br/colombo/'\n",
        "\n",
        "# Fazer a requisição HTTP para obter o conteúdo da página\n",
        "response = requests.get(url)\n",
        "\n",
        "# Analisar o conteúdo HTML da página\n",
        "soup = BeautifulSoup(response.content, 'html.parser')\n",
        "\n",
        "# Exibir os primeiros 1000 caracteres do conteúdo HTML para verificar\n",
        "print(soup.prettify()[:10000])\n"
      ],
      "metadata": {
        "colab": {
          "base_uri": "https://localhost:8080/"
        },
        "id": "D6SQAZDkXbn2",
        "outputId": "47438946-8ee6-4370-89b9-faf0d630242c"
      },
      "execution_count": 9,
      "outputs": [
        {
          "output_type": "stream",
          "name": "stdout",
          "text": [
            "<!DOCTYPE html>\n",
            "<html lang=\"pt-BR\" xmlns:fb=\"http://www.facebook.com/2008/fbml\" xmlns:og=\"http://opengraphprotocol.org/schema/\">\n",
            " <head>\n",
            "  <!-- Google tag (gtag.js) -->\n",
            "  <script async=\"\" src=\"https://www.googletagmanager.com/gtag/js?id=G-Z8DEPESPKF\">\n",
            "  </script>\n",
            "  <script>\n",
            "   window.dataLayer = window.dataLayer || [];\n",
            "\n",
            "\t\tfunction gtag() {\n",
            "\t\t\tdataLayer.push(arguments);\n",
            "\t\t}\n",
            "\t\tgtag('js', new Date());\n",
            "\n",
            "\t\tgtag('config', 'G-Z8DEPESPKF');\n",
            "  </script>\n",
            "  <!-- Facebook Pixel Code -->\n",
            "  <script>\n",
            "   ! function(f, b, e, v, n, t, s) {\n",
            "\t\t\tif (f.fbq) return;\n",
            "\t\t\tn = f.fbq = function() {\n",
            "\t\t\t\tn.callMethod ?\n",
            "\t\t\t\t\tn.callMethod.apply(n, arguments) : n.queue.push(arguments)\n",
            "\t\t\t};\n",
            "\t\t\tif (!f._fbq) f._fbq = n;\n",
            "\t\t\tn.push = n;\n",
            "\t\t\tn.loaded = !0;\n",
            "\t\t\tn.version = '2.0';\n",
            "\t\t\tn.queue = [];\n",
            "\t\t\tt = b.createElement(e);\n",
            "\t\t\tt.async = !0;\n",
            "\t\t\tt.src = v;\n",
            "\t\t\ts = b.getElementsByTagName(e)[0];\n",
            "\t\t\ts.parentNode.insertBefore(t, s)\n",
            "\t\t}(window, document, 'script',\n",
            "\t\t\t'https://connect.facebook.net/en_US/fbevents.js');\n",
            "\t\tfbq('init', '869424903874166');\n",
            "\t\tfbq('track', 'PageView');\n",
            "  </script>\n",
            "  <noscript>\n",
            "   <img height=\"1\" src=\"https://www.facebook.com/tr?id=869424903874166&amp;ev=PageView\n",
            "&amp;noscript=1\" width=\"1\"/>\n",
            "  </noscript>\n",
            "  <!-- End Facebook Pixel Code -->\n",
            "  <meta charset=\"utf-8\"/>\n",
            "  <meta content=\"width=device-width, initial-scale=1.0\" name=\"viewport\"/>\n",
            "  <meta content=\"ie=edge\" http-equiv=\"X-UA-Compatible\"/>\n",
            "  <meta content=\"http://estruturaorganizacional.dados.gov.br/id/unidade-organizacional/49103\" property=\"creator.productor\"/>\n",
            "  <meta content=\"O Instituto Federal do Paraná oferece Cursos Técnicos, Superiores e de Pós-Graduação públicos, gratuitos e de qualidade\" name=\"Description\"/>\n",
            "  <link href=\"https://ifpr.edu.br/colombo/wp-content/themes/ifpr-theme-1.03/assets/images/favicon.gif\" rel=\"shortcut icon\" type=\"image/x-icon\"/>\n",
            "  <title>\n",
            "   Campus Colombo – IFPR – Educação Pública, Gratuita e de Qualidade\n",
            "  </title>\n",
            "  <meta content=\"max-image-preview:large\" name=\"robots\">\n",
            "   <link href=\"//www.googletagmanager.com\" rel=\"dns-prefetch\">\n",
            "    <link href=\"https://ifpr.edu.br/colombo/feed/\" rel=\"alternate\" title=\"Feed para Campus Colombo »\" type=\"application/rss+xml\"/>\n",
            "    <link href=\"https://ifpr.edu.br/colombo/comments/feed/\" rel=\"alternate\" title=\"Feed de comentários para Campus Colombo »\" type=\"application/rss+xml\"/>\n",
            "    <link href=\"https://ifpr.edu.br/colombo/wp-includes/css/dist/block-library/style.min.css?ver=6.6.1\" id=\"wp-block-library-css\" media=\"all\" rel=\"stylesheet\" type=\"text/css\"/>\n",
            "    <style id=\"classic-theme-styles-inline-css\" type=\"text/css\">\n",
            "     /*! This file is auto-generated */\n",
            ".wp-block-button__link{color:#fff;background-color:#32373c;border-radius:9999px;box-shadow:none;text-decoration:none;padding:calc(.667em + 2px) calc(1.333em + 2px);font-size:1.125em}.wp-block-file__button{background:#32373c;color:#fff;text-decoration:none}\n",
            "    </style>\n",
            "    <style id=\"global-styles-inline-css\" type=\"text/css\">\n",
            "     :root{--wp--preset--aspect-ratio--square: 1;--wp--preset--aspect-ratio--4-3: 4/3;--wp--preset--aspect-ratio--3-4: 3/4;--wp--preset--aspect-ratio--3-2: 3/2;--wp--preset--aspect-ratio--2-3: 2/3;--wp--preset--aspect-ratio--16-9: 16/9;--wp--preset--aspect-ratio--9-16: 9/16;--wp--preset--color--black: #000000;--wp--preset--color--cyan-bluish-gray: #abb8c3;--wp--preset--color--white: #ffffff;--wp--preset--color--pale-pink: #f78da7;--wp--preset--color--vivid-red: #cf2e2e;--wp--preset--color--luminous-vivid-orange: #ff6900;--wp--preset--color--luminous-vivid-amber: #fcb900;--wp--preset--color--light-green-cyan: #7bdcb5;--wp--preset--color--vivid-green-cyan: #00d084;--wp--preset--color--pale-cyan-blue: #8ed1fc;--wp--preset--color--vivid-cyan-blue: #0693e3;--wp--preset--color--vivid-purple: #9b51e0;--wp--preset--gradient--vivid-cyan-blue-to-vivid-purple: linear-gradient(135deg,rgba(6,147,227,1) 0%,rgb(155,81,224) 100%);--wp--preset--gradient--light-green-cyan-to-vivid-green-cyan: linear-gradient(135deg,rgb(122,220,180) 0%,rgb(0,208,130) 100%);--wp--preset--gradient--luminous-vivid-amber-to-luminous-vivid-orange: linear-gradient(135deg,rgba(252,185,0,1) 0%,rgba(255,105,0,1) 100%);--wp--preset--gradient--luminous-vivid-orange-to-vivid-red: linear-gradient(135deg,rgba(255,105,0,1) 0%,rgb(207,46,46) 100%);--wp--preset--gradient--very-light-gray-to-cyan-bluish-gray: linear-gradient(135deg,rgb(238,238,238) 0%,rgb(169,184,195) 100%);--wp--preset--gradient--cool-to-warm-spectrum: linear-gradient(135deg,rgb(74,234,220) 0%,rgb(151,120,209) 20%,rgb(207,42,186) 40%,rgb(238,44,130) 60%,rgb(251,105,98) 80%,rgb(254,248,76) 100%);--wp--preset--gradient--blush-light-purple: linear-gradient(135deg,rgb(255,206,236) 0%,rgb(152,150,240) 100%);--wp--preset--gradient--blush-bordeaux: linear-gradient(135deg,rgb(254,205,165) 0%,rgb(254,45,45) 50%,rgb(107,0,62) 100%);--wp--preset--gradient--luminous-dusk: linear-gradient(135deg,rgb(255,203,112) 0%,rgb(199,81,192) 50%,rgb(65,88,208) 100%);--wp--preset--gradient--pale-ocean: linear-gradient(135deg,rgb(255,245,203) 0%,rgb(182,227,212) 50%,rgb(51,167,181) 100%);--wp--preset--gradient--electric-grass: linear-gradient(135deg,rgb(202,248,128) 0%,rgb(113,206,126) 100%);--wp--preset--gradient--midnight: linear-gradient(135deg,rgb(2,3,129) 0%,rgb(40,116,252) 100%);--wp--preset--font-size--small: 13px;--wp--preset--font-size--medium: 20px;--wp--preset--font-size--large: 36px;--wp--preset--font-size--x-large: 42px;--wp--preset--spacing--20: 0.44rem;--wp--preset--spacing--30: 0.67rem;--wp--preset--spacing--40: 1rem;--wp--preset--spacing--50: 1.5rem;--wp--preset--spacing--60: 2.25rem;--wp--preset--spacing--70: 3.38rem;--wp--preset--spacing--80: 5.06rem;--wp--preset--shadow--natural: 6px 6px 9px rgba(0, 0, 0, 0.2);--wp--preset--shadow--deep: 12px 12px 50px rgba(0, 0, 0, 0.4);--wp--preset--shadow--sharp: 6px 6px 0px rgba(0, 0, 0, 0.2);--wp--preset--shadow--outlined: 6px 6px 0px -3px rgba(255, 255, 255, 1), 6px 6px rgba(0, 0, 0, 1);--wp--preset--shadow--crisp: 6px 6px 0px rgba(0, 0, 0, 1);}:where(.is-layout-flex){gap: 0.5em;}:where(.is-layout-grid){gap: 0.5em;}body .is-layout-flex{display: flex;}.is-layout-flex{flex-wrap: wrap;align-items: center;}.is-layout-flex > :is(*, div){margin: 0;}body .is-layout-grid{display: grid;}.is-layout-grid > :is(*, div){margin: 0;}:where(.wp-block-columns.is-layout-flex){gap: 2em;}:where(.wp-block-columns.is-layout-grid){gap: 2em;}:where(.wp-block-post-template.is-layout-flex){gap: 1.25em;}:where(.wp-block-post-template.is-layout-grid){gap: 1.25em;}.has-black-color{color: var(--wp--preset--color--black) !important;}.has-cyan-bluish-gray-color{color: var(--wp--preset--color--cyan-bluish-gray) !important;}.has-white-color{color: var(--wp--preset--color--white) !important;}.has-pale-pink-color{color: var(--wp--preset--color--pale-pink) !important;}.has-vivid-red-color{color: var(--wp--preset--color--vivid-red) !important;}.has-luminous-vivid-orange-color{color: var(--wp--preset--color--luminous-vivid-orange) !important;}.has-luminous-vivid-amber-color{color: var(--wp--preset--color--luminous-vivid-amber) !important;}.has-light-green-cyan-color{color: var(--wp--preset--color--light-green-cyan) !important;}.has-vivid-green-cyan-color{color: var(--wp--preset--color--vivid-green-cyan) !important;}.has-pale-cyan-blue-color{color: var(--wp--preset--color--pale-cyan-blue) !important;}.has-vivid-cyan-blue-color{color: var(--wp--preset--color--vivid-cyan-blue) !important;}.has-vivid-purple-color{color: var(--wp--preset--color--vivid-purple) !important;}.has-black-background-color{background-color: var(--wp--preset--color--black) !important;}.has-cyan-bluish-gray-background-color{background-color: var(--wp--preset--color--cyan-bluish-gray) !important;}.has-white-background-color{background-color: var(--wp--preset--color--white) !important;}.has-pale-pink-background-color{background-color: var(--wp--preset--color--pale-pink) !important;}.has-vivid-red-background-color{background-color: var(--wp--preset--color--vivid-red) !important;}.has-luminous-vivid-orange-background-color{background-color: var(--wp--preset--color--luminous-vivid-orange) !important;}.has-luminous-vivid-amber-background-color{background-color: var(--wp--preset--color--luminous-vivid-amber) !important;}.has-light-green-cyan-background-color{background-color: var(--wp--preset--color--light-green-cyan) !important;}.has-vivid-green-cyan-background-color{background-color: var(--wp--preset--color--vivid-green-cyan) !important;}.has-pale-cyan-blue-background-color{background-color: var(--wp--preset--color--pale-cyan-blue) !important;}.has-vivid-cyan-blue-background-color{background-color: var(--wp--preset--color--vivid-cyan-blue) !important;}.has-vivid-purple-background-color{background-color: var(--wp--preset--color--vivid-purple) !important;}.has-black-border-color{border-color: var(--wp--preset--color--black) !important;}.has-cyan-bluish-gray-border-color{border-color: var(--wp--preset--color--cyan-bluish-gray) !important;}.has-white-border-color{border-color: var(--wp--preset--color--white) !important;}.has-pale-pink-border-color{border-color: var(--wp--preset--color--pale-pink) !important;}.has-vivid-red-border-color{border-color: var(--wp--preset--color--vivid-red) !important;}.has-luminous-vivid-orange-border-color{border-color: var(--wp--preset--color--luminous-vivid-orange) !important;}.has-luminous-vivid-amber-border-color{border-color: var(--wp--preset--color--luminous-vivid-amber) !important;}.has-light-green-cyan-border-color{border-color: var(--wp--preset--color--light-green-cyan) !important;}.has-vivid-green-cyan-border-color{border-color: var(--wp--preset--color--vivid-green-cyan) !important;}.has-pale-cyan-blue-border-color{border-color: var(--wp--preset--color--pale-cyan-blue) !important;}.has-vivid-cyan-blue-border-color{border-color: var(--wp--preset--color--vivid-cyan-blue) !important;}.has-vivid-purple-border-color{border-color: var(--wp--preset--color--vivid-purple) !important;}.has-vivid-cyan-blue-to-vivid-purple-gradient-background\n"
          ]
        }
      ]
    },
    {
      "cell_type": "markdown",
      "source": [
        "##4 - Pre-processamento\n"
      ],
      "metadata": {
        "id": "ayp__QiYfR8P"
      }
    },
    {
      "cell_type": "code",
      "source": [
        "import requests\n",
        "from bs4 import BeautifulSoup\n",
        "import re\n",
        "import nltk\n",
        "from nltk.corpus import stopwords\n",
        "from nltk.tokenize import word_tokenize\n",
        "\n",
        "# Baixar recursos necessários do NLTK\n",
        "nltk.download('punkt')\n",
        "nltk.download('stopwords')\n",
        "\n",
        "# Função para limpar o texto\n",
        "def clean_text(text):\n",
        "    text = re.sub(r'\\s+', ' ', text)  # Remover espaços extras\n",
        "    text = re.sub(r'\\[.*?\\]', '', text)  # Remover texto entre colchetes\n",
        "    text = re.sub(r'<.*?>', '', text)  # Remover HTML tags\n",
        "    return text\n",
        "\n",
        "# Função para tokenizar e remover stop words\n",
        "def preprocess_text(text):\n",
        "    stop_words = set(stopwords.words('portuguese'))\n",
        "    word_tokens = word_tokenize(text)\n",
        "    filtered_text = [word for word in word_tokens if word.lower() not in stop_words]\n",
        "    return ' '.join(filtered_text)\n",
        "\n",
        "# URL do site\n",
        "url = 'https://ifpr.edu.br/colombo/'\n",
        "\n",
        "# Fazer a requisição HTTP para obter o conteúdo da página\n",
        "response = requests.get(url)\n",
        "\n",
        "# Verificar se a requisição foi bem-sucedida\n",
        "if response.status_code == 200:\n",
        "    print(\"Requisição bem-sucedida!\")\n",
        "else:\n",
        "    print(\"Erro na requisição:\", response.status_code)\n",
        "\n",
        "# Analisar o conteúdo HTML da página\n",
        "soup = BeautifulSoup(response.content, 'html.parser')\n",
        "\n",
        "# Remover o conteúdo do rodapé (footer) da página, se presente\n",
        "footer = soup.find('footer')\n",
        "if footer:\n",
        "    footer.decompose()\n",
        "\n",
        "# Remover a <div> especificada pela classe \"conteudo-barra-brasil\"\n",
        "conteudo_barra_brasil = soup.find('div', class_='conteudo-barra-brasil')\n",
        "if conteudo_barra_brasil:\n",
        "    conteudo_barra_brasil.decompose()\n",
        "\n",
        "# Extrair texto e links\n",
        "content = []\n",
        "for element in soup.find_all(['p', 'a', 'div', 'span', 'h1', 'h2', 'h3', 'h4', 'h5', 'h6']):\n",
        "    if element.name == 'a' and element.has_attr('href'):\n",
        "        content.append(f\"{element.get_text()} (Link: {element['href']})\")\n",
        "    else:\n",
        "        content.append(element.get_text())\n",
        "\n",
        "# Combinar todo o conteúdo em uma única string\n",
        "page_content = '\\n'.join(content)\n",
        "\n",
        "# Aplicar limpeza de texto\n",
        "cleaned_text = clean_text(page_content)\n",
        "\n",
        "# Aplicar pré-processamento\n",
        "preprocessed_text = preprocess_text(cleaned_text)\n",
        "\n",
        "# Salvar o conteúdo em um arquivo de texto\n",
        "with open('testDois.txt', 'w', encoding='utf-8') as file:\n",
        "    file.write(preprocessed_text)\n",
        "\n",
        "print(\"Pre-processamento completo. Conteúdo salvo em 'Index IFPR.txt'\")"
      ],
      "metadata": {
        "colab": {
          "base_uri": "https://localhost:8080/"
        },
        "id": "qpHxkFVPeKnH",
        "outputId": "d9d35a08-bc9e-443c-b61a-3fa6f7c03fee"
      },
      "execution_count": 6,
      "outputs": [
        {
          "output_type": "stream",
          "name": "stderr",
          "text": [
            "[nltk_data] Downloading package punkt to /root/nltk_data...\n",
            "[nltk_data]   Package punkt is already up-to-date!\n",
            "[nltk_data] Downloading package stopwords to /root/nltk_data...\n",
            "[nltk_data]   Package stopwords is already up-to-date!\n"
          ]
        },
        {
          "output_type": "stream",
          "name": "stdout",
          "text": [
            "Requisição bem-sucedida!\n",
            "Pre-processamento completo. Conteúdo salvo em 'Index IFPR.txt'\n"
          ]
        }
      ]
    },
    {
      "cell_type": "markdown",
      "source": [
        "## 1. Preparar os Dados\n"
      ],
      "metadata": {
        "id": "jUoo6lFojyKf"
      }
    },
    {
      "cell_type": "code",
      "source": [
        "from datasets import Dataset\n",
        "import pandas as pd\n",
        "\n",
        "# Carregar o texto pré-processado do arquivo\n",
        "with open('testDois.txt', 'r', encoding='utf-8') as file:\n",
        "    preprocessed_text = file.read()\n",
        "\n",
        "# Dividir o texto em partes menores para não ultrapassar o limite de 512 tokens\n",
        "def split_text(text, max_length=512):\n",
        "    words = text.split()\n",
        "    return [' '.join(words[i:i + max_length]) for i in range(0, len(words), max_length)]\n",
        "\n",
        "# Aplicar a divisão\n",
        "texts = split_text(preprocessed_text, max_length=512)\n",
        "\n",
        "# Criar um DataFrame a partir dos textos divididos\n",
        "data = {'text': texts}\n",
        "df = pd.DataFrame(data)\n",
        "\n",
        "# Criar um dataset a partir do DataFrame\n",
        "dataset = Dataset.from_pandas(df)\n",
        "\n",
        "print(df)\n"
      ],
      "metadata": {
        "colab": {
          "base_uri": "https://localhost:8080/"
        },
        "id": "KAWEmdqTkJhH",
        "outputId": "2a27a299-1428-40fe-9cce-cf0245ee5cc8"
      },
      "execution_count": 16,
      "outputs": [
        {
          "output_type": "stream",
          "name": "stdout",
          "text": [
            "                                                text\n",
            "0  Portal Governo Brasileiro Portal Governo Brasi...\n",
            "1  Notícias Conselho Superior Instituto Federal P...\n",
            "2  – IPVC Portugal Convocação matrícula vagas rem...\n",
            "3  Seção Pedagógica Assuntos Estudantis SEPAE Equ...\n",
            "4  Informações sobre vida funcional Página Servid...\n",
            "5  integral participação programa pós-graduação s...\n",
            "6  //ifpr.edu.br/colombo/convocacao-para-matricul...\n"
          ]
        }
      ]
    },
    {
      "cell_type": "markdown",
      "source": [
        "##Configurar e Carregar o Modelo\n",
        "Vamos usar o modelo bert-base-portuguese-cased da Neuralmind e a biblioteca transformers para carregar o modelo e o tokenizer."
      ],
      "metadata": {
        "id": "gnyeZp5OkO1W"
      }
    },
    {
      "cell_type": "code",
      "source": [
        "from transformers import AutoTokenizer, AutoModelForMaskedLM, DataCollatorForLanguageModeling, TrainingArguments, Trainer\n",
        "\n",
        "# Carregar o tokenizer e o modelo pré-treinado\n",
        "tokenizer = AutoTokenizer.from_pretrained('neuralmind/bert-base-portuguese-cased')\n",
        "model = AutoModelForMaskedLM.from_pretrained('neuralmind/bert-base-portuguese-cased')\n",
        "\n",
        "# Tokenizar o dataset\n",
        "def tokenize_function(examples):\n",
        "    return tokenizer(examples['text'], padding=\"max_length\", truncation=True, max_length=512)\n",
        "\n",
        "tokenized_dataset = dataset.map(tokenize_function, batched=True)\n",
        "\n",
        "# Preparar os rótulos de MLM\n",
        "data_collator = DataCollatorForLanguageModeling(\n",
        "    tokenizer=tokenizer,\n",
        "    mlm=True,\n",
        "    mlm_probability=0.15\n",
        ")\n",
        "\n",
        "# Definir os argumentos de treinamento\n",
        "training_args = TrainingArguments(\n",
        "    output_dir='./results',\n",
        "    evaluation_strategy=\"epoch\",\n",
        "    learning_rate=2e-5,\n",
        "    per_device_train_batch_size=8,\n",
        "    per_device_eval_batch_size=8,\n",
        "    num_train_epochs=3,\n",
        "    weight_decay=0.01,\n",
        ")\n"
      ],
      "metadata": {
        "colab": {
          "base_uri": "https://localhost:8080/",
          "height": 156,
          "referenced_widgets": [
            "a78a6084e710475ea8711fd6eca07a0f",
            "518ab14a80da4aa1a70c248a2e791476",
            "c8de95b1c4034a37ac4e6f0b82ee08ff",
            "86bb14433d2b4e07b43a53a89de9ff54",
            "54cd5c67bfe741f4a03a6d374157e336",
            "6a12e1cbd890499b9ac98a4cca9850b6",
            "af9b39387ae4485a961b7b58b44dd014",
            "2fb1330a1fa7469e84f42ab2ab164113",
            "1a5c59b7fdaa48feb46058b56427e2c7",
            "b874332ec81a4a308c225ee1734b4c40",
            "7985f25a2ec145a78114340328cf47b2"
          ]
        },
        "id": "ZhajjV-ikQtN",
        "outputId": "c39da170-fcbd-4180-a991-b4c5e2a3fa84"
      },
      "execution_count": 17,
      "outputs": [
        {
          "output_type": "stream",
          "name": "stderr",
          "text": [
            "Some weights of the model checkpoint at neuralmind/bert-base-portuguese-cased were not used when initializing BertForMaskedLM: ['bert.pooler.dense.bias', 'bert.pooler.dense.weight', 'cls.seq_relationship.bias', 'cls.seq_relationship.weight']\n",
            "- This IS expected if you are initializing BertForMaskedLM from the checkpoint of a model trained on another task or with another architecture (e.g. initializing a BertForSequenceClassification model from a BertForPreTraining model).\n",
            "- This IS NOT expected if you are initializing BertForMaskedLM from the checkpoint of a model that you expect to be exactly identical (initializing a BertForSequenceClassification model from a BertForSequenceClassification model).\n"
          ]
        },
        {
          "output_type": "display_data",
          "data": {
            "text/plain": [
              "Map:   0%|          | 0/7 [00:00<?, ? examples/s]"
            ],
            "application/vnd.jupyter.widget-view+json": {
              "version_major": 2,
              "version_minor": 0,
              "model_id": "a78a6084e710475ea8711fd6eca07a0f"
            }
          },
          "metadata": {}
        },
        {
          "output_type": "stream",
          "name": "stderr",
          "text": [
            "/usr/local/lib/python3.10/dist-packages/transformers/training_args.py:1494: FutureWarning: `evaluation_strategy` is deprecated and will be removed in version 4.46 of 🤗 Transformers. Use `eval_strategy` instead\n",
            "  warnings.warn(\n"
          ]
        }
      ]
    },
    {
      "cell_type": "markdown",
      "source": [
        "##3. Treinar o Modelo\n",
        "Vamos treinar o modelo utilizando os dados tokenizados."
      ],
      "metadata": {
        "id": "Ug-p18n8lKhP"
      }
    },
    {
      "cell_type": "code",
      "source": [
        "# Criar o objeto Trainer\n",
        "trainer = Trainer(\n",
        "    model=model,\n",
        "    args=training_args,\n",
        "    data_collator=data_collator,\n",
        "    train_dataset=tokenized_dataset,\n",
        "    eval_dataset=tokenized_dataset,\n",
        ")\n",
        "\n",
        "# Iniciar o treinamento\n",
        "trainer.train()\n"
      ],
      "metadata": {
        "id": "IqllaC8JlLrn"
      },
      "execution_count": null,
      "outputs": []
    }
  ]
}